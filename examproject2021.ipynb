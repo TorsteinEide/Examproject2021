{
 "cells": [
  {
   "cell_type": "code",
   "execution_count": 1,
   "id": "f76e67b6",
   "metadata": {},
   "outputs": [],
   "source": [
    "%load_ext sql"
   ]
  },
  {
   "cell_type": "code",
   "execution_count": 2,
   "id": "f4ddff05",
   "metadata": {},
   "outputs": [
    {
     "output_type": "execute_result",
     "data": {
      "text/plain": [
       "'Connected: @libraryDB.db'"
      ]
     },
     "metadata": {},
     "execution_count": 2
    }
   ],
   "source": [
    "%sql sqlite:///libraryDB.db"
   ]
  },
  {
   "cell_type": "markdown",
   "id": "691cc038",
   "metadata": {},
   "source": [
    "# Create each of the tables from database design\n",
    "\n",
    "**Here the \"books\" table is created with columns: bookID, title, publisher, releaseDate, isbn and borrowerID**\n",
    "\n",
    "**The bookID column is the primary key, with borrowersID as a foreign key**"
   ]
  },
  {
   "cell_type": "code",
   "execution_count": 3,
   "id": "eb90de26",
   "metadata": {},
   "outputs": [
    {
     "output_type": "stream",
     "name": "stdout",
     "text": [
      " * sqlite:///libraryDB.db\nDone.\nDone.\nDone.\n"
     ]
    },
    {
     "output_type": "execute_result",
     "data": {
      "text/plain": [
       "[]"
      ],
      "text/html": "<table>\n    <thead>\n        <tr>\n            <th>bookID</th>\n            <th>title</th>\n            <th>publisher</th>\n            <th>releaseDate</th>\n            <th>isbn</th>\n            <th>branchID</th>\n        </tr>\n    </thead>\n    <tbody>\n    </tbody>\n</table>"
     },
     "metadata": {},
     "execution_count": 3
    }
   ],
   "source": [
    "%%sql\n",
    "DROP TABLE IF EXISTS books;\n",
    "CREATE TABLE books (\n",
    "    bookID INT NOT NULL UNIQUE,\n",
    "    title VARCHAR(255) NOT NULL DEFAULT '',\n",
    "    publisher VARCHAR(255) NOT NULL DEFAULT '', \n",
    "    releaseDate date NOT NULL DEFAULT '',\n",
    "    isbn INT NOT NULL DEFAULT '', \n",
    "    branchID VARCHAR(255) NOT NULL DEFAULT '',\n",
    "    CONSTRAINT branches FOREIGN KEY (branchID)\n",
    "    REFERENCES branches(branchID)\n",
    "    PRIMARY KEY (bookID)\n",
    ");\n",
    "\n",
    "SELECT *\n",
    "FROM books"
   ]
  },
  {
   "cell_type": "markdown",
   "id": "eb399f53",
   "metadata": {},
   "source": [
    "**Here the \"branches\" table is created, with branchID as primary key**"
   ]
  },
  {
   "cell_type": "code",
   "execution_count": 4,
   "id": "94014879",
   "metadata": {},
   "outputs": [
    {
     "output_type": "stream",
     "name": "stdout",
     "text": [
      " * sqlite:///libraryDB.db\nDone.\nDone.\nDone.\n"
     ]
    },
    {
     "output_type": "execute_result",
     "data": {
      "text/plain": [
       "[]"
      ],
      "text/html": "<table>\n    <thead>\n        <tr>\n            <th>branchID</th>\n            <th>name</th>\n            <th>address</th>\n            <th>zipCode</th>\n            <th>city</th>\n        </tr>\n    </thead>\n    <tbody>\n    </tbody>\n</table>"
     },
     "metadata": {},
     "execution_count": 4
    }
   ],
   "source": [
    "%%sql\n",
    "DROP TABLE IF EXISTS branches;\n",
    "CREATE TABLE branches (\n",
    "    branchID INT NOT NULL UNIQUE,\n",
    "    name VARCHAR(255) NOT NULL DEFAULT '',\n",
    "    address VARCHAR(255) NOT NULL DEFAULT '', \n",
    "    zipCode INT NOT NULL DEFAULT '',\n",
    "    city VARCHAR(255) NOT NULL DEFAULT '',\n",
    "    PRIMARY KEY (branchID)\n",
    ");\n",
    "\n",
    "SELECT * \n",
    "FROM branches"
   ]
  },
  {
   "cell_type": "markdown",
   "id": "910c623e",
   "metadata": {},
   "source": [
    "**Here the \"borrowers\" table is created, with borrowerID as primary key**"
   ]
  },
  {
   "cell_type": "code",
   "execution_count": 5,
   "id": "a025be6f",
   "metadata": {},
   "outputs": [
    {
     "output_type": "stream",
     "name": "stdout",
     "text": [
      " * sqlite:///libraryDB.db\nDone.\nDone.\nDone.\n"
     ]
    },
    {
     "output_type": "execute_result",
     "data": {
      "text/plain": [
       "[]"
      ],
      "text/html": "<table>\n    <thead>\n        <tr>\n            <th>borrowerID</th>\n            <th>firstName</th>\n            <th>lastName</th>\n            <th>address</th>\n            <th>zipCode</th>\n            <th>city</th>\n            <th>email</th>\n            <th>phoneNumber</th>\n        </tr>\n    </thead>\n    <tbody>\n    </tbody>\n</table>"
     },
     "metadata": {},
     "execution_count": 5
    }
   ],
   "source": [
    "%%sql\n",
    "DROP TABLE IF EXISTS borrowers;\n",
    "CREATE TABLE borrowers (\n",
    "    borrowerID INT NOT NULL UNIQUE,\n",
    "    firstName VARCHAR(255) NOT NULL DEFAULT '',\n",
    "    lastName VARCHAR(255) NOT NULL DEFAULT '', \n",
    "    address VARCHAR(255) NOT NULL DEFAULT '',\n",
    "    zipCode INT NOT NULL DEFAULT '',\n",
    "    city VARCHAR(255) NOT NULL DEFAULT '', \n",
    "    email VARCHAR(255) NOT NULL DEFAULT '',\n",
    "    phoneNumber INT NOT NULL DEFAULT '',\n",
    "    PRIMARY KEY (borrowerID)\n",
    ");\n",
    "\n",
    "SELECT *\n",
    "FROM borrowers"
   ]
  },
  {
   "cell_type": "markdown",
   "id": "ed5c6c93",
   "metadata": {},
   "source": [
    "**Here the \"lentBooks\" table is created, with two foreign keys, \"bookID\" and \"borrowerID\", which together will act as a primary key.**"
   ]
  },
  {
   "cell_type": "code",
   "execution_count": 6,
   "id": "1d101b75",
   "metadata": {},
   "outputs": [
    {
     "output_type": "stream",
     "name": "stdout",
     "text": [
      " * sqlite:///libraryDB.db\nDone.\nDone.\n(sqlite3.OperationalError) no such table: dueDate\n[SQL: SELECT *\nFROM dueDate]\n(Background on this error at: http://sqlalche.me/e/13/e3q8)\n"
     ]
    }
   ],
   "source": [
    "%%sql\n",
    "DROP TABLE IF EXISTS lentBooks;\n",
    "CREATE TABLE lentBooks (\n",
    "    bookID INT NOT NULL UNIQUE,\n",
    "    dueDate date NOT NULL DEFAULT '',\n",
    "    borrowerID INT NOT NULL DEFAULT '',\n",
    "    CONSTRAINT borrowers FOREIGN KEY (borrowerID)\n",
    "    REFERENCES borrowers(borrowerID)\n",
    "    \n",
    "    PRIMARY KEY (bookID)\n",
    "    \n",
    ");\n",
    "\n",
    "SELECT *\n",
    "FROM dueDate"
   ]
  },
  {
   "cell_type": "markdown",
   "id": "1a30146a",
   "metadata": {},
   "source": [
    "**Here the \"author\" table is created, with a primary key \"author\".**"
   ]
  },
  {
   "cell_type": "code",
   "execution_count": 7,
   "id": "43bbf1fc",
   "metadata": {},
   "outputs": [
    {
     "output_type": "stream",
     "name": "stdout",
     "text": [
      " * sqlite:///libraryDB.db\nDone.\nDone.\nDone.\n"
     ]
    },
    {
     "output_type": "execute_result",
     "data": {
      "text/plain": [
       "[]"
      ],
      "text/html": "<table>\n    <thead>\n        <tr>\n            <th>authorID</th>\n            <th>firstName</th>\n            <th>lastName</th>\n        </tr>\n    </thead>\n    <tbody>\n    </tbody>\n</table>"
     },
     "metadata": {},
     "execution_count": 7
    }
   ],
   "source": [
    "%%sql\n",
    "DROP TABLE IF EXISTS author;\n",
    "CREATE TABLE author (\n",
    "    authorID INT  NOT NULL UNIQUE,\n",
    "    firstName varchar(255) NOT NULL DEFAULT '',\n",
    "    lastName varchar(255) NOT NULL DEFAULT '',\n",
    "    \n",
    "    PRIMARY KEY (authorID)\n",
    ");\n",
    "\n",
    "SELECT *\n",
    "FROM author"
   ]
  },
  {
   "cell_type": "markdown",
   "id": "4c3c6bec",
   "metadata": {},
   "source": [
    "**Here the \"bookAuthor\" table is created, with two foreign keys, \"authorID\" and \"bookID\"**"
   ]
  },
  {
   "cell_type": "code",
   "execution_count": 8,
   "id": "206d8ad8",
   "metadata": {},
   "outputs": [
    {
     "output_type": "stream",
     "name": "stdout",
     "text": [
      " * sqlite:///libraryDB.db\nDone.\nDone.\nDone.\n"
     ]
    },
    {
     "output_type": "execute_result",
     "data": {
      "text/plain": [
       "[]"
      ],
      "text/html": "<table>\n    <thead>\n        <tr>\n            <th>bookID</th>\n            <th>authorID</th>\n        </tr>\n    </thead>\n    <tbody>\n    </tbody>\n</table>"
     },
     "metadata": {},
     "execution_count": 8
    }
   ],
   "source": [
    "%%sql\n",
    "DROP TABLE IF EXISTS bookAuthor;\n",
    "CREATE TABLE bookAuthor (\n",
    "    bookID INT NOT NULL DEFAULT '',\n",
    "    authorID INT NOT NULL DEFAULT '',\n",
    "    CONSTRAINT book FOREIGN KEY (bookID)\n",
    "    REFERENCES book (bookID)\n",
    "    CONSTRAINT author FOREIGN KEY (authorID)\n",
    "    REFERENCES author (authorID)\n",
    "    \n",
    ");\n",
    "    \n",
    "SELECT *\n",
    "FROM bookAuthor"
   ]
  },
  {
   "cell_type": "markdown",
   "id": "82e48aa2",
   "metadata": {},
   "source": [
    "**Here the \"bookBranches\" table is created, with two foreign keys, \"bookID\" and \"branchID\"**"
   ]
  },
  {
   "cell_type": "code",
   "execution_count": 9,
   "id": "9449a904",
   "metadata": {},
   "outputs": [
    {
     "output_type": "stream",
     "name": "stdout",
     "text": [
      " * sqlite:///libraryDB.db\nDone.\nDone.\nDone.\n"
     ]
    },
    {
     "output_type": "execute_result",
     "data": {
      "text/plain": [
       "[]"
      ],
      "text/html": "<table>\n    <thead>\n        <tr>\n            <th>bookID</th>\n            <th>branchID</th>\n        </tr>\n    </thead>\n    <tbody>\n    </tbody>\n</table>"
     },
     "metadata": {},
     "execution_count": 9
    }
   ],
   "source": [
    "%%sql\n",
    "DROP TABLE IF EXISTS bookBranches;\n",
    "CREATE TABLE bookBranches (\n",
    "    bookID INT NOT NULL DEFAULT '',\n",
    "    branchID INT NOT NULL DEFAULT '',\n",
    "    CONSTRAINT book FOREIGN KEY (bookID)\n",
    "    REFERENCES book (bookID)\n",
    "    CONSTRAINT branches FOREIGN KEY (branchID)\n",
    "    REFERENCES branches (branchID)\n",
    "    \n",
    ");\n",
    "    \n",
    "SELECT *\n",
    "FROM bookBranches"
   ]
  },
  {
   "cell_type": "code",
   "execution_count": 10,
   "id": "2f0e6aca",
   "metadata": {},
   "outputs": [
    {
     "output_type": "stream",
     "name": "stdout",
     "text": [
      " * sqlite:///libraryDB.db\nDone.\n"
     ]
    },
    {
     "output_type": "execute_result",
     "data": {
      "text/plain": [
       "[('table', 'author', 'author', 11, \"CREATE TABLE author (\\n    authorID INT  NOT NULL UNIQUE,\\n    firstName varchar(255) NOT NULL DEFAULT '',\\n    lastName varchar(255) NOT NULL DEFAULT '',\\n    \\n    PRIMARY KEY (authorID)\\n)\"),\n",
       " ('table', 'bookAuthor', 'bookAuthor', 13, \"CREATE TABLE bookAuthor (\\n    bookID INT NOT NULL DEFAULT '',\\n    authorID INT NOT NULL DEFAULT '',\\n    CONSTRAINT book FOREIGN KEY (bookID)\\n    REFERENCES book (bookID)\\n    CONSTRAINT author FOREIGN KEY (authorID)\\n    REFERENCES author (authorID)\\n    \\n)\"),\n",
       " ('table', 'bookBranches', 'bookBranches', 14, \"CREATE TABLE bookBranches (\\n    bookID INT NOT NULL DEFAULT '',\\n    branchID INT NOT NULL DEFAULT '',\\n    CONSTRAINT book FOREIGN KEY (bookID)\\n    REFERENCES book (bookID)\\n    CONSTRAINT branches FOREIGN KEY (branchID)\\n    REFERENCES branches (branchID)\\n    \\n)\"),\n",
       " ('table', 'books', 'books', 2, \"CREATE TABLE books (\\n    bookID INT NOT NULL UNIQUE,\\n    title VARCHAR(255) NOT NULL DEFAULT '',\\n    publisher VARCHAR(255) NOT NULL DEFAULT '', \\ ... (89 characters truncated) ... hID VARCHAR(255) NOT NULL DEFAULT '',\\n    CONSTRAINT branches FOREIGN KEY (branchID)\\n    REFERENCES branches(branchID)\\n    PRIMARY KEY (bookID)\\n)\"),\n",
       " ('table', 'borrowers', 'borrowers', 7, \"CREATE TABLE borrowers (\\n    borrowerID INT NOT NULL UNIQUE,\\n    firstName VARCHAR(255) NOT NULL DEFAULT '',\\n    lastName VARCHAR(255) NOT NULL DE ... (111 characters truncated) ... AR(255) NOT NULL DEFAULT '', \\n    email VARCHAR(255) NOT NULL DEFAULT '',\\n    phoneNumber INT NOT NULL DEFAULT '',\\n    PRIMARY KEY (borrowerID)\\n)\"),\n",
       " ('table', 'branches', 'branches', 5, \"CREATE TABLE branches (\\n    branchID INT NOT NULL UNIQUE,\\n    name VARCHAR(255) NOT NULL DEFAULT '',\\n    address VARCHAR(255) NOT NULL DEFAULT '', \\n    zipCode INT NOT NULL DEFAULT '',\\n    city VARCHAR(255) NOT NULL DEFAULT '',\\n    PRIMARY KEY (branchID)\\n)\"),\n",
       " ('table', 'lentBooks', 'lentBooks', 9, \"CREATE TABLE lentBooks (\\n    bookID INT NOT NULL UNIQUE,\\n    dueDate date NOT NULL DEFAULT '',\\n    borrowerID INT NOT NULL DEFAULT '',\\n    CONSTRAINT borrowers FOREIGN KEY (borrowerID)\\n    REFERENCES borrowers(borrowerID)\\n    \\n    PRIMARY KEY (bookID)\\n    \\n)\")]"
      ],
      "text/html": "<table>\n    <thead>\n        <tr>\n            <th>type</th>\n            <th>name</th>\n            <th>tbl_name</th>\n            <th>rootpage</th>\n            <th>sql</th>\n        </tr>\n    </thead>\n    <tbody>\n        <tr>\n            <td>table</td>\n            <td>author</td>\n            <td>author</td>\n            <td>11</td>\n            <td>CREATE TABLE author (<br>    authorID INT  NOT NULL UNIQUE,<br>    firstName varchar(255) NOT NULL DEFAULT &#x27;&#x27;,<br>    lastName varchar(255) NOT NULL DEFAULT &#x27;&#x27;,<br>    <br>    PRIMARY KEY (authorID)<br>)</td>\n        </tr>\n        <tr>\n            <td>table</td>\n            <td>bookAuthor</td>\n            <td>bookAuthor</td>\n            <td>13</td>\n            <td>CREATE TABLE bookAuthor (<br>    bookID INT NOT NULL DEFAULT &#x27;&#x27;,<br>    authorID INT NOT NULL DEFAULT &#x27;&#x27;,<br>    CONSTRAINT book FOREIGN KEY (bookID)<br>    REFERENCES book (bookID)<br>    CONSTRAINT author FOREIGN KEY (authorID)<br>    REFERENCES author (authorID)<br>    <br>)</td>\n        </tr>\n        <tr>\n            <td>table</td>\n            <td>bookBranches</td>\n            <td>bookBranches</td>\n            <td>14</td>\n            <td>CREATE TABLE bookBranches (<br>    bookID INT NOT NULL DEFAULT &#x27;&#x27;,<br>    branchID INT NOT NULL DEFAULT &#x27;&#x27;,<br>    CONSTRAINT book FOREIGN KEY (bookID)<br>    REFERENCES book (bookID)<br>    CONSTRAINT branches FOREIGN KEY (branchID)<br>    REFERENCES branches (branchID)<br>    <br>)</td>\n        </tr>\n        <tr>\n            <td>table</td>\n            <td>books</td>\n            <td>books</td>\n            <td>2</td>\n            <td>CREATE TABLE books (<br>    bookID INT NOT NULL UNIQUE,<br>    title VARCHAR(255) NOT NULL DEFAULT &#x27;&#x27;,<br>    publisher VARCHAR(255) NOT NULL DEFAULT &#x27;&#x27;, <br>    releaseDate date NOT NULL DEFAULT &#x27;&#x27;,<br>    isbn INT NOT NULL DEFAULT &#x27;&#x27;, <br>    branchID VARCHAR(255) NOT NULL DEFAULT &#x27;&#x27;,<br>    CONSTRAINT branches FOREIGN KEY (branchID)<br>    REFERENCES branches(branchID)<br>    PRIMARY KEY (bookID)<br>)</td>\n        </tr>\n        <tr>\n            <td>table</td>\n            <td>borrowers</td>\n            <td>borrowers</td>\n            <td>7</td>\n            <td>CREATE TABLE borrowers (<br>    borrowerID INT NOT NULL UNIQUE,<br>    firstName VARCHAR(255) NOT NULL DEFAULT &#x27;&#x27;,<br>    lastName VARCHAR(255) NOT NULL DEFAULT &#x27;&#x27;, <br>    address VARCHAR(255) NOT NULL DEFAULT &#x27;&#x27;,<br>    zipCode INT NOT NULL DEFAULT &#x27;&#x27;,<br>    city VARCHAR(255) NOT NULL DEFAULT &#x27;&#x27;, <br>    email VARCHAR(255) NOT NULL DEFAULT &#x27;&#x27;,<br>    phoneNumber INT NOT NULL DEFAULT &#x27;&#x27;,<br>    PRIMARY KEY (borrowerID)<br>)</td>\n        </tr>\n        <tr>\n            <td>table</td>\n            <td>branches</td>\n            <td>branches</td>\n            <td>5</td>\n            <td>CREATE TABLE branches (<br>    branchID INT NOT NULL UNIQUE,<br>    name VARCHAR(255) NOT NULL DEFAULT &#x27;&#x27;,<br>    address VARCHAR(255) NOT NULL DEFAULT &#x27;&#x27;, <br>    zipCode INT NOT NULL DEFAULT &#x27;&#x27;,<br>    city VARCHAR(255) NOT NULL DEFAULT &#x27;&#x27;,<br>    PRIMARY KEY (branchID)<br>)</td>\n        </tr>\n        <tr>\n            <td>table</td>\n            <td>lentBooks</td>\n            <td>lentBooks</td>\n            <td>9</td>\n            <td>CREATE TABLE lentBooks (<br>    bookID INT NOT NULL UNIQUE,<br>    dueDate date NOT NULL DEFAULT &#x27;&#x27;,<br>    borrowerID INT NOT NULL DEFAULT &#x27;&#x27;,<br>    CONSTRAINT borrowers FOREIGN KEY (borrowerID)<br>    REFERENCES borrowers(borrowerID)<br>    <br>    PRIMARY KEY (bookID)<br>    <br>)</td>\n        </tr>\n    </tbody>\n</table>"
     },
     "metadata": {},
     "execution_count": 10
    }
   ],
   "source": [
    "%sql SELECT * FROM sqlite_master WHERE type='table' ORDER BY name;"
   ]
  },
  {
   "cell_type": "code",
   "execution_count": 11,
   "id": "bfbbff88",
   "metadata": {},
   "outputs": [
    {
     "output_type": "stream",
     "name": "stdout",
     "text": [
      " * sqlite:///libraryDB.db\n15 rows affected.\n"
     ]
    },
    {
     "output_type": "execute_result",
     "data": {
      "text/plain": [
       "[]"
      ]
     },
     "metadata": {},
     "execution_count": 11
    }
   ],
   "source": [
    "%%sql\n",
    "INSERT INTO books (bookID, title, publisher, releaseDate, isbn, branchID)\n",
    "VALUES (1, 'Absalom, Absalom!', 'RELX', '12/12/1980', '0-1842-3223-6', 1),\n",
    "(2, 'A time to kill', 'Thomson Reuters', '04/01/1999', '0-9160-0872-X', 1),\n",
    "(3, 'The House of Mirth', 'Penguin Random House', '06/08/2010', '0-1550-7146-7', 1),\n",
    "(4, 'East of Eden', 'Hachette Livre', '30/03/2001', '0-2476-2936-7', 2),\n",
    "(5, 'The Sun also rises', 'HarperCollins', '25/05/2015', '0-3335-1324-X', 2),\n",
    "(6, 'Vile Bodies', 'Macmillan Publishers', '02/02/1996', '0-2954-2975-5', 2),\n",
    "(7, 'A Scanner Darkly', 'Bertelsmann', '04/08/2005', '0-9556-1945-9', 3),\n",
    "(8, 'MOAB is my Washpot', 'Scholastic Corporation', '30/06/1905', '0-1126-3913-5', 4),\n",
    "(9, 'Number the Stars', 'McGraw-Hill Education', '23/07/2008', '0-5320-7144-1', 4),\n",
    "(10, 'Noli me Tangere', 'Pearson', '13/09/2020', '0-6740-9536-7', 3),\n",
    "(11, 'The Great Gatsby', 'F. Scott Fitzgerald', '1925-04-26', '978-0-306-40615-7', 1),\n",
    "(12, 'The Catcher in the Rye', 'J. D. Salinger', '1951-09-26', '978-0-553-37804-3', 1),\n",
    "(13, 'The Grapes of Wrath', 'John Steinbeck', '1939-04-26', '978-0-553-37804-3', 1),\n",
    "(14, 'The Art of War', 'A.H. & Co.', '12/12/1980', '0-1842-3223-6', 1),\n",
    "(15, 'The Book of Mormon', 'HarperCollins', '01/01/1905', '0-7356-0274-X', 4);\n",
    "\n"
   ]
  },
  {
   "cell_type": "code",
   "execution_count": 12,
   "id": "135d3ed3",
   "metadata": {},
   "outputs": [
    {
     "output_type": "stream",
     "name": "stdout",
     "text": [
      " * sqlite:///libraryDB.db\n6 rows affected.\n"
     ]
    },
    {
     "output_type": "execute_result",
     "data": {
      "text/plain": [
       "[]"
      ]
     },
     "metadata": {},
     "execution_count": 12
    }
   ],
   "source": [
    "%%sql\n",
    "INSERT INTO branches (branchID, name, address, zipCode, city)\n",
    "VALUES (1, 'Scranton Library', 'Soleveien 24', 1540, 'Vestby'),\n",
    "(2, 'Akron Library', 'Øvre Strandgate 2', 6008, 'Ålesund'),\n",
    "(3, 'Albany Library', 'Kongens gate 1', 1020, 'Oslo'),\n",
    "(4, 'Nashua Library', 'Torsvegen 80', 5043, 'Gjøvik'),\n",
    "(5, 'Biblioteket', 'Biblioteket', 1234, 'Oslo'),\n",
    "(6, 'Biblioteca', 'Calle de la Biblioteca', 28001, 'Madrid');\n"
   ]
  },
  {
   "cell_type": "code",
   "execution_count": 13,
   "id": "e4889e00",
   "metadata": {},
   "outputs": [
    {
     "output_type": "stream",
     "name": "stdout",
     "text": [
      " * sqlite:///libraryDB.db\n",
      "4 rows affected.\n"
     ]
    },
    {
     "output_type": "execute_result",
     "data": {
      "text/plain": [
       "[]"
      ]
     },
     "metadata": {},
     "execution_count": 13
    }
   ],
   "source": [
    "%%sql\n",
    "INSERT INTO borrowers (borrowerID, firstName, lastName, address, zipCode, city, email, phoneNumber)\n",
    "VALUES (1, 'Joakim', 'Edvardsen', 'Soleveien 24', 1540, 'Vestby', 'joakim@ntnu.no', 90159363),\n",
    "(2, 'Eduard', 'Cristea', 'Karl Johans gate 1', 1020, 'Oslo', 'eduard@ntnu.no', 94560934),\n",
    "(3, 'Torstein', 'Eide', 'Dronninsgate 87', 5043, 'Gjøvik', 'torstein@ntnu.no', 58394859),\n",
    "(4, 'Richileu', 'Bailey', 'Larsgårsvegen 2', '5894', 'Trondheim', 'richie@ntnu.no', 49586710);"
   ]
  },
  {
   "cell_type": "code",
   "execution_count": 14,
   "id": "2bd9577c",
   "metadata": {},
   "outputs": [
    {
     "output_type": "stream",
     "name": "stdout",
     "text": [
      " * sqlite:///libraryDB.db\n",
      "6 rows affected.\n"
     ]
    },
    {
     "output_type": "execute_result",
     "data": {
      "text/plain": [
       "[]"
      ]
     },
     "metadata": {},
     "execution_count": 14
    }
   ],
   "source": [
    "%%sql\n",
    "INSERT INTO lentBooks (bookID, dueDate, borrowerID)\n",
    "VALUES (1, '02/12/2021', 1),\n",
    "(2, '12/12/2021', 1),\n",
    "(3, '03/12/2021', 2),\n",
    "(4, '10/12/2021', 4),\n",
    "(5, '07/12/2021', 3),\n",
    "(6, '01/10/2022', 2);"
   ]
  },
  {
   "cell_type": "code",
   "execution_count": 15,
   "id": "fe074bfd",
   "metadata": {},
   "outputs": [
    {
     "output_type": "stream",
     "name": "stdout",
     "text": [
      " * sqlite:///libraryDB.db\n",
      "9 rows affected.\n"
     ]
    },
    {
     "output_type": "execute_result",
     "data": {
      "text/plain": [
       "[]"
      ]
     },
     "metadata": {},
     "execution_count": 15
    }
   ],
   "source": [
    "%%sql\n",
    "INSERT INTO author (authorID, firstName, lastName)\n",
    "VALUES (1, 'William', 'Shakespeare'),\n",
    "(2, 'J.R.R.', 'Tolkien'),\n",
    "(3, 'J.K.', 'Rowling'),\n",
    "(4, 'Robert', 'C. Martin'),\n",
    "(5, 'Leo', 'Tolstoy'),\n",
    "(6, 'Jon', 'Nesbø'),\n",
    "(7, 'Arthur', 'Conan Doyle'),\n",
    "(8, 'Emily', 'Bronte'),\n",
    "(9, 'Leonardo', 'da Vinci');"
   ]
  },
  {
   "cell_type": "code",
   "execution_count": 16,
   "id": "27a26b1c",
   "metadata": {},
   "outputs": [
    {
     "output_type": "stream",
     "name": "stdout",
     "text": [
      " * sqlite:///libraryDB.db\n14 rows affected.\n"
     ]
    },
    {
     "output_type": "execute_result",
     "data": {
      "text/plain": [
       "[]"
      ]
     },
     "metadata": {},
     "execution_count": 16
    }
   ],
   "source": [
    "%%sql\n",
    "INSERT INTO bookAuthor (bookID, authorID)\n",
    "VALUES (1, 1),\n",
    "(2, 1),\n",
    "(3, 5),\n",
    "(3, 4),\n",
    "(4, 2),\n",
    "(5, 7),\n",
    "(6, 8),\n",
    "(7, 9),\n",
    "(8, 2),\n",
    "(9, 3),\n",
    "(10, 2),\n",
    "(11, 1),\n",
    "(12, 5),\n",
    "(13, 3);\n"
   ]
  },
  {
   "cell_type": "code",
   "execution_count": 18,
   "id": "78e4096e",
   "metadata": {},
   "outputs": [
    {
     "output_type": "stream",
     "name": "stdout",
     "text": [
      " * sqlite:///libraryDB.db\n13 rows affected.\n"
     ]
    },
    {
     "output_type": "execute_result",
     "data": {
      "text/plain": [
       "[]"
      ]
     },
     "metadata": {},
     "execution_count": 18
    }
   ],
   "source": [
    "%%sql\n",
    "INSERT INTO bookBranches (bookID, branchID)\n",
    "VALUES (1, 1),\n",
    "(2, 1),\n",
    "(3, 1),\n",
    "(4, 2),\n",
    "(5, 2),\n",
    "(6, 2),\n",
    "(7, 3),\n",
    "(8, 4),\n",
    "(9, 4),\n",
    "(10, 3),\n",
    "(11, 4),\n",
    "(12, 4),\n",
    "(13, 4);\n",
    "\n"
   ]
  },
  {
   "cell_type": "code",
   "execution_count": 17,
   "id": "258d1123",
   "metadata": {},
   "outputs": [
    {
     "output_type": "stream",
     "name": "stdout",
     "text": [
      " * sqlite:///libraryDB.db\n",
      "Done.\n"
     ]
    },
    {
     "output_type": "execute_result",
     "data": {
      "text/plain": [
       "[(1,)]"
      ],
      "text/html": "<table>\n    <thead>\n        <tr>\n            <th>COUNT(*)</th>\n        </tr>\n    </thead>\n    <tbody>\n        <tr>\n            <td>1</td>\n        </tr>\n    </tbody>\n</table>"
     },
     "metadata": {},
     "execution_count": 17
    }
   ],
   "source": [
    "%%sql\n",
    "SELECT COUNT(*)\n",
    "FROM books\n",
    "WHERE title = 'The Sun also rises' AND publisher = 'HarperCollins' AND branchID IN (\n",
    "    SELECT branchID\n",
    "    FROM branches\n",
    "    WHERE address = 'Øvre Strandgate 2'\n",
    ");\n"
   ]
  },
  {
   "cell_type": "code",
   "execution_count": 24,
   "id": "78aa9f5b",
   "metadata": {},
   "outputs": [
    {
     "output_type": "stream",
     "name": "stdout",
     "text": [
      " * sqlite:///libraryDB.db\nDone.\n"
     ]
    },
    {
     "output_type": "execute_result",
     "data": {
      "text/plain": [
       "[(1,)]"
      ],
      "text/html": "<table>\n    <thead>\n        <tr>\n            <th>COUNT(branchID)</th>\n        </tr>\n    </thead>\n    <tbody>\n        <tr>\n            <td>1</td>\n        </tr>\n    </tbody>\n</table>"
     },
     "metadata": {},
     "execution_count": 24
    }
   ],
   "source": [
    "%%sql\n",
    "\n",
    "SELECT COUNT(branchID)\n",
    "FROM Books\n",
    "WHERE title = 'The Book of Mormon';\n",
    "GROUP BY branchID\n"
   ]
  },
  {
   "cell_type": "code",
   "execution_count": 26,
   "id": "3743f796",
   "metadata": {},
   "outputs": [
    {
     "output_type": "stream",
     "name": "stdout",
     "text": [
      " * sqlite:///libraryDB.db\nDone.\n"
     ]
    },
    {
     "output_type": "execute_result",
     "data": {
      "text/plain": [
       "[(1, 'Absalom, Absalom!', 'RELX', '12/12/1980', '0-1842-3223-6', '1', 1, '02/12/2021', 1, 1, 'Joakim', 'Edvardsen', 'Soleveien 24', 1540, 'Vestby', 'joakim@ntnu.no', 90159363, 1, 'Scranton Library', 'Soleveien 24', 1540, 'Vestby'),\n",
       " (2, 'A time to kill', 'Thomson Reuters', '04/01/1999', '0-9160-0872-X', '1', 2, '12/12/2021', 1, 1, 'Joakim', 'Edvardsen', 'Soleveien 24', 1540, 'Vestby', 'joakim@ntnu.no', 90159363, 1, 'Scranton Library', 'Soleveien 24', 1540, 'Vestby'),\n",
       " (3, 'The House of Mirth', 'Penguin Random House', '06/08/2010', '0-1550-7146-7', '1', 3, '03/12/2021', 2, 2, 'Eduard', 'Cristea', 'Karl Johans gate 1', 1020, 'Oslo', 'eduard@ntnu.no', 94560934, 1, 'Scranton Library', 'Soleveien 24', 1540, 'Vestby'),\n",
       " (4, 'East of Eden', 'Hachette Livre', '30/03/2001', '0-2476-2936-7', '2', 4, '10/12/2021', 4, 4, 'Richileu', 'Bailey', 'Larsgårsvegen 2', 5894, 'Trondheim', 'richie@ntnu.no', 49586710, 2, 'Akron Library', 'Øvre Strandgate 2', 6008, 'Ålesund'),\n",
       " (5, 'The Sun also rises', 'HarperCollins', '25/05/2015', '0-3335-1324-X', '2', 5, '07/12/2021', 3, 3, 'Torstein', 'Eide', 'Dronninsgate 87', 5043, 'Gjøvik', 'torstein@ntnu.no', 58394859, 2, 'Akron Library', 'Øvre Strandgate 2', 6008, 'Ålesund'),\n",
       " (6, 'Vile Bodies', 'Macmillan Publishers', '02/02/1996', '0-2954-2975-5', '2', 6, '01/10/2022', 2, 2, 'Eduard', 'Cristea', 'Karl Johans gate 1', 1020, 'Oslo', 'eduard@ntnu.no', 94560934, 2, 'Akron Library', 'Øvre Strandgate 2', 6008, 'Ålesund')]"
      ],
      "text/html": "<table>\n    <thead>\n        <tr>\n            <th>bookID</th>\n            <th>title</th>\n            <th>publisher</th>\n            <th>releaseDate</th>\n            <th>isbn</th>\n            <th>branchID</th>\n            <th>bookID_1</th>\n            <th>dueDate</th>\n            <th>borrowerID</th>\n            <th>borrowerID_1</th>\n            <th>firstName</th>\n            <th>lastName</th>\n            <th>address</th>\n            <th>zipCode</th>\n            <th>city</th>\n            <th>email</th>\n            <th>phoneNumber</th>\n            <th>branchID_1</th>\n            <th>name</th>\n            <th>address_1</th>\n            <th>zipCode_1</th>\n            <th>city_1</th>\n        </tr>\n    </thead>\n    <tbody>\n        <tr>\n            <td>1</td>\n            <td>Absalom, Absalom!</td>\n            <td>RELX</td>\n            <td>12/12/1980</td>\n            <td>0-1842-3223-6</td>\n            <td>1</td>\n            <td>1</td>\n            <td>02/12/2021</td>\n            <td>1</td>\n            <td>1</td>\n            <td>Joakim</td>\n            <td>Edvardsen</td>\n            <td>Soleveien 24</td>\n            <td>1540</td>\n            <td>Vestby</td>\n            <td>joakim@ntnu.no</td>\n            <td>90159363</td>\n            <td>1</td>\n            <td>Scranton Library</td>\n            <td>Soleveien 24</td>\n            <td>1540</td>\n            <td>Vestby</td>\n        </tr>\n        <tr>\n            <td>2</td>\n            <td>A time to kill</td>\n            <td>Thomson Reuters</td>\n            <td>04/01/1999</td>\n            <td>0-9160-0872-X</td>\n            <td>1</td>\n            <td>2</td>\n            <td>12/12/2021</td>\n            <td>1</td>\n            <td>1</td>\n            <td>Joakim</td>\n            <td>Edvardsen</td>\n            <td>Soleveien 24</td>\n            <td>1540</td>\n            <td>Vestby</td>\n            <td>joakim@ntnu.no</td>\n            <td>90159363</td>\n            <td>1</td>\n            <td>Scranton Library</td>\n            <td>Soleveien 24</td>\n            <td>1540</td>\n            <td>Vestby</td>\n        </tr>\n        <tr>\n            <td>3</td>\n            <td>The House of Mirth</td>\n            <td>Penguin Random House</td>\n            <td>06/08/2010</td>\n            <td>0-1550-7146-7</td>\n            <td>1</td>\n            <td>3</td>\n            <td>03/12/2021</td>\n            <td>2</td>\n            <td>2</td>\n            <td>Eduard</td>\n            <td>Cristea</td>\n            <td>Karl Johans gate 1</td>\n            <td>1020</td>\n            <td>Oslo</td>\n            <td>eduard@ntnu.no</td>\n            <td>94560934</td>\n            <td>1</td>\n            <td>Scranton Library</td>\n            <td>Soleveien 24</td>\n            <td>1540</td>\n            <td>Vestby</td>\n        </tr>\n        <tr>\n            <td>4</td>\n            <td>East of Eden</td>\n            <td>Hachette Livre</td>\n            <td>30/03/2001</td>\n            <td>0-2476-2936-7</td>\n            <td>2</td>\n            <td>4</td>\n            <td>10/12/2021</td>\n            <td>4</td>\n            <td>4</td>\n            <td>Richileu</td>\n            <td>Bailey</td>\n            <td>Larsgårsvegen 2</td>\n            <td>5894</td>\n            <td>Trondheim</td>\n            <td>richie@ntnu.no</td>\n            <td>49586710</td>\n            <td>2</td>\n            <td>Akron Library</td>\n            <td>Øvre Strandgate 2</td>\n            <td>6008</td>\n            <td>Ålesund</td>\n        </tr>\n        <tr>\n            <td>5</td>\n            <td>The Sun also rises</td>\n            <td>HarperCollins</td>\n            <td>25/05/2015</td>\n            <td>0-3335-1324-X</td>\n            <td>2</td>\n            <td>5</td>\n            <td>07/12/2021</td>\n            <td>3</td>\n            <td>3</td>\n            <td>Torstein</td>\n            <td>Eide</td>\n            <td>Dronninsgate 87</td>\n            <td>5043</td>\n            <td>Gjøvik</td>\n            <td>torstein@ntnu.no</td>\n            <td>58394859</td>\n            <td>2</td>\n            <td>Akron Library</td>\n            <td>Øvre Strandgate 2</td>\n            <td>6008</td>\n            <td>Ålesund</td>\n        </tr>\n        <tr>\n            <td>6</td>\n            <td>Vile Bodies</td>\n            <td>Macmillan Publishers</td>\n            <td>02/02/1996</td>\n            <td>0-2954-2975-5</td>\n            <td>2</td>\n            <td>6</td>\n            <td>01/10/2022</td>\n            <td>2</td>\n            <td>2</td>\n            <td>Eduard</td>\n            <td>Cristea</td>\n            <td>Karl Johans gate 1</td>\n            <td>1020</td>\n            <td>Oslo</td>\n            <td>eduard@ntnu.no</td>\n            <td>94560934</td>\n            <td>2</td>\n            <td>Akron Library</td>\n            <td>Øvre Strandgate 2</td>\n            <td>6008</td>\n            <td>Ålesund</td>\n        </tr>\n    </tbody>\n</table>"
     },
     "metadata": {},
     "execution_count": 26
    }
   ],
   "source": [
    "%%sql\n",
    "\n",
    "SELECT borrowers.firstName, borrowers.lastName, branches.name\n",
    "FROM books\n",
    "INNER JOIN lentBooks ON books.bookID = lentBooks.bookID\n",
    "INNER JOIN borrowers ON lentBooks.borrowerID = borrowers.borrowerID\n",
    "INNER JOIN branches ON books.branchID = branches.branchID\n",
    "WHERE books.title = 'A time to kill';\n",
    "\n"
   ]
  },
  {
   "cell_type": "code",
   "execution_count": 20,
   "id": "471b43ff",
   "metadata": {},
   "outputs": [
    {
     "output_type": "stream",
     "name": "stdout",
     "text": [
      " * sqlite:///libraryDB.db\nDone.\n"
     ]
    },
    {
     "output_type": "execute_result",
     "data": {
      "text/plain": [
       "[('The House of Mirth', 'Eduard', 'Cristea', 'Karl Johans gate 1')]"
      ],
      "text/html": "<table>\n    <thead>\n        <tr>\n            <th>title</th>\n            <th>firstName</th>\n            <th>lastName</th>\n            <th>address</th>\n        </tr>\n    </thead>\n    <tbody>\n        <tr>\n            <td>The House of Mirth</td>\n            <td>Eduard</td>\n            <td>Cristea</td>\n            <td>Karl Johans gate 1</td>\n        </tr>\n    </tbody>\n</table>"
     },
     "metadata": {},
     "execution_count": 20
    }
   ],
   "source": [
    "%%sql\n",
    "\n",
    "SELECT books.title, borrowers.firstName, borrowers.lastName, borrowers.address\n",
    "FROM lentBooks\n",
    "INNER JOIN books ON lentBooks.bookID = books.bookID\n",
    "INNER JOIN borrowers ON lentBooks.borrowerID = borrowers.borrowerID\n",
    "WHERE lentBooks.dueDate = '03/12/2021' AND branchID = '1';\n"
   ]
  },
  {
   "cell_type": "code",
   "execution_count": 22,
   "id": "7a71f2d4",
   "metadata": {},
   "outputs": [
    {
     "output_type": "stream",
     "name": "stdout",
     "text": [
      " * sqlite:///libraryDB.db\nDone.\n"
     ]
    },
    {
     "output_type": "execute_result",
     "data": {
      "text/plain": [
       "[('Scranton Library', 3), ('Akron Library', 3)]"
      ],
      "text/html": "<table>\n    <thead>\n        <tr>\n            <th>name</th>\n            <th>COUNT(bookID)</th>\n        </tr>\n    </thead>\n    <tbody>\n        <tr>\n            <td>Scranton Library</td>\n            <td>3</td>\n        </tr>\n        <tr>\n            <td>Akron Library</td>\n            <td>3</td>\n        </tr>\n    </tbody>\n</table>"
     },
     "metadata": {},
     "execution_count": 22
    }
   ],
   "source": [
    "%%sql\n",
    "\n",
    "SELECT branches.name, COUNT(bookID)\n",
    "FROM branches\n",
    "INNER JOIN books ON branches.branchID = books.branchID\n",
    "WHERE bookID IN (\n",
    "    SELECT lentBooks.bookID\n",
    "    FROM lentBooks\n",
    "    )\n",
    "GROUP BY branches.branchID;"
   ]
  }
 ],
 "metadata": {
  "kernelspec": {
   "display_name": "Python 3",
   "language": "python",
   "name": "python3"
  },
  "language_info": {
   "codemirror_mode": {
    "name": "ipython",
    "version": 3
   },
   "file_extension": ".py",
   "mimetype": "text/x-python",
   "name": "python",
   "nbconvert_exporter": "python",
   "pygments_lexer": "ipython3",
   "version": "3.8.3-final"
  }
 },
 "nbformat": 4,
 "nbformat_minor": 5
}