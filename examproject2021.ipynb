{
 "cells": [
  {
   "cell_type": "code",
   "execution_count": 1,
   "id": "6e2f3554",
   "metadata": {},
   "outputs": [],
   "source": [
    "%load_ext sql"
   ]
  },
  {
   "cell_type": "code",
   "execution_count": 86,
   "id": "b95fff3d",
   "metadata": {},
   "outputs": [
    {
     "data": {
      "text/plain": [
       "'Connected: @libraryDB.db'"
      ]
     },
     "execution_count": 86,
     "metadata": {},
     "output_type": "execute_result"
    }
   ],
   "source": [
    "%sql sqlite:///libraryDB.db"
   ]
  },
  {
   "cell_type": "markdown",
   "id": "1ed290dc",
   "metadata": {},
   "source": [
    "# Create each of the tables from database design\n",
    "\n",
    "**Here the \"books\" table is created with columns: bookID, title, publisher, releaseDate, isbn and borrowerID**\n",
    "\n",
    "**The bookID column is the primary key, with borrowersID as a foreign key**"
   ]
  },
  {
   "cell_type": "code",
   "execution_count": 120,
   "id": "5c9b04c1",
   "metadata": {},
   "outputs": [
    {
     "name": "stdout",
     "output_type": "stream",
     "text": [
      "   sqlite:///empty_db.db\n",
      " * sqlite:///libraryDB.db\n",
      "Done.\n",
      "Done.\n"
     ]
    },
    {
     "data": {
      "text/html": [
       "<table>\n",
       "    <thead>\n",
       "        <tr>\n",
       "            <th>bookID</th>\n",
       "            <th>title</th>\n",
       "            <th>publisher</th>\n",
       "            <th>releaseDate</th>\n",
       "            <th>isbn</th>\n",
       "            <th>branchID</th>\n",
       "        </tr>\n",
       "    </thead>\n",
       "    <tbody>\n",
       "    </tbody>\n",
       "</table>"
      ],
      "text/plain": [
       "[]"
      ]
     },
     "execution_count": 120,
     "metadata": {},
     "output_type": "execute_result"
    }
   ],
   "source": [
    "%%sql\n",
    "CREATE TABLE books (\n",
    "    bookID INT NOT NULL UNIQUE,\n",
    "    title VARCHAR(255) NOT NULL DEFAULT '',\n",
    "    publisher VARCHAR(255) NOT NULL DEFAULT '', \n",
    "    releaseDate date NOT NULL DEFAULT '',\n",
    "    isbn INT NOT NULL DEFAULT '', \n",
    "    branchID INT NOT NULL DEFAULT '',\n",
    "    CONSTRAINT branches FOREIGN KEY (branchID)\n",
    "    REFERENCES branches(branchID)\n",
    "    PRIMARY KEY (bookID)\n",
    ");\n",
    "\n",
    "SELECT *\n",
    "FROM books"
   ]
  },
  {
   "cell_type": "markdown",
   "id": "71e9a618",
   "metadata": {},
   "source": [
    "**Here the \"branches\" table is created, with branchID as primary key**"
   ]
  },
  {
   "cell_type": "code",
   "execution_count": 108,
   "id": "ae63c779",
   "metadata": {},
   "outputs": [
    {
     "name": "stdout",
     "output_type": "stream",
     "text": [
      "   sqlite:///empty_db.db\n",
      " * sqlite:///libraryDB.db\n",
      "Done.\n",
      "Done.\n",
      "Done.\n"
     ]
    },
    {
     "data": {
      "text/html": [
       "<table>\n",
       "    <thead>\n",
       "        <tr>\n",
       "            <th>branchID</th>\n",
       "            <th>name</th>\n",
       "            <th>address</th>\n",
       "            <th>zipCode</th>\n",
       "            <th>city</th>\n",
       "        </tr>\n",
       "    </thead>\n",
       "    <tbody>\n",
       "    </tbody>\n",
       "</table>"
      ],
      "text/plain": [
       "[]"
      ]
     },
     "execution_count": 108,
     "metadata": {},
     "output_type": "execute_result"
    }
   ],
   "source": [
    "%%sql\n",
    "CREATE TABLE branches (\n",
    "    branchID INT NOT NULL UNIQUE,\n",
    "    name VARCHAR(255) NOT NULL DEFAULT '',\n",
    "    address VARCHAR(255) NOT NULL DEFAULT '', \n",
    "    zipCode INT NOT NULL DEFAULT '',\n",
    "    city VARCHAR(255) NOT NULL DEFAULT '',\n",
    "    PRIMARY KEY (branchID)\n",
    ");\n",
    "\n",
    "SELECT * \n",
    "FROM branches"
   ]
  },
  {
   "cell_type": "markdown",
   "id": "832dbac2",
   "metadata": {},
   "source": [
    "**Here the \"borrowers\" table is created, with borrowerID as primary key**"
   ]
  },
  {
   "cell_type": "code",
   "execution_count": 109,
   "id": "af56da40",
   "metadata": {},
   "outputs": [
    {
     "name": "stdout",
     "output_type": "stream",
     "text": [
      "   sqlite:///empty_db.db\n",
      " * sqlite:///libraryDB.db\n",
      "Done.\n",
      "Done.\n",
      "Done.\n"
     ]
    },
    {
     "data": {
      "text/html": [
       "<table>\n",
       "    <thead>\n",
       "        <tr>\n",
       "            <th>borrowerID</th>\n",
       "            <th>firstName</th>\n",
       "            <th>lastName</th>\n",
       "            <th>address</th>\n",
       "            <th>zipCode</th>\n",
       "            <th>city</th>\n",
       "            <th>email</th>\n",
       "            <th>phoneNumber</th>\n",
       "        </tr>\n",
       "    </thead>\n",
       "    <tbody>\n",
       "    </tbody>\n",
       "</table>"
      ],
      "text/plain": [
       "[]"
      ]
     },
     "execution_count": 109,
     "metadata": {},
     "output_type": "execute_result"
    }
   ],
   "source": [
    "%%sql\n",
    "CREATE TABLE borrowers (\n",
    "    borrowerID INT NOT NULL UNIQUE,\n",
    "    firstName VARCHAR(255) NOT NULL DEFAULT '',\n",
    "    lastName VARCHAR(255) NOT NULL DEFAULT '', \n",
    "    address VARCHAR(255) NOT NULL DEFAULT '',\n",
    "    zipCode INT NOT NULL DEFAULT '',\n",
    "    city VARCHAR(255) NOT NULL DEFAULT '', \n",
    "    email VARCHAR(255) NOT NULL DEFAULT '',\n",
    "    phoneNumber INT NOT NULL DEFAULT '',\n",
    "    PRIMARY KEY (borrowerID)\n",
    ");\n",
    "\n",
    "SELECT *\n",
    "FROM borrowers"
   ]
  },
  {
   "cell_type": "markdown",
   "id": "8d592928",
   "metadata": {},
   "source": [
    "**Here the \"lentBooks\" table is created, with two foreign keys, \"bookID\" and \"borrowerID\", which together will act as a primary key.**"
   ]
  },
  {
   "cell_type": "code",
   "execution_count": 110,
   "id": "72bf406e",
   "metadata": {},
   "outputs": [
    {
     "name": "stdout",
     "output_type": "stream",
     "text": [
      "   sqlite:///empty_db.db\n",
      " * sqlite:///libraryDB.db\n",
      "Done.\n",
      "Done.\n",
      "(sqlite3.OperationalError) no such table: dueDate\n",
      "[SQL: SELECT *\n",
      "FROM dueDate]\n",
      "(Background on this error at: http://sqlalche.me/e/14/e3q8)\n"
     ]
    }
   ],
   "source": [
    "%%sql\n",
    "CREATE TABLE lentBooks (\n",
    "    bookID INT NOT NULL UNIQUE,\n",
    "    dueDate date NOT NULL DEFAULT '',\n",
    "    borrowerID INT NOT NULL DEFAULT '',\n",
    "    CONSTRAINT borrowers FOREIGN KEY (borrowerID)\n",
    "    REFERENCES borrowers(borrowerID)\n",
    "    \n",
    "    PRIMARY KEY (bookID)\n",
    "    \n",
    ");\n",
    "\n",
    "SELECT *\n",
    "FROM dueDate"
   ]
  },
  {
   "cell_type": "markdown",
   "id": "ec56c0c6",
   "metadata": {},
   "source": [
    "**Here the \"author\" table is created, with a primary key \"author\".**"
   ]
  },
  {
   "cell_type": "code",
   "execution_count": 111,
   "id": "dd19f33c",
   "metadata": {},
   "outputs": [
    {
     "name": "stdout",
     "output_type": "stream",
     "text": [
      "   sqlite:///empty_db.db\n",
      " * sqlite:///libraryDB.db\n",
      "Done.\n",
      "Done.\n",
      "Done.\n"
     ]
    },
    {
     "data": {
      "text/html": [
       "<table>\n",
       "    <thead>\n",
       "        <tr>\n",
       "            <th>authorID</th>\n",
       "            <th>firstName</th>\n",
       "            <th>lastName</th>\n",
       "        </tr>\n",
       "    </thead>\n",
       "    <tbody>\n",
       "    </tbody>\n",
       "</table>"
      ],
      "text/plain": [
       "[]"
      ]
     },
     "execution_count": 111,
     "metadata": {},
     "output_type": "execute_result"
    }
   ],
   "source": [
    "%%sql\n",
    "CREATE TABLE author (\n",
    "    authorID INT  NOT NULL UNIQUE,\n",
    "    firstName varchar(255) NOT NULL DEFAULT '',\n",
    "    lastName varchar(255) NOT NULL DEFAULT '',\n",
    "    \n",
    "    PRIMARY KEY (authorID)\n",
    ");\n",
    "\n",
    "SELECT *\n",
    "FROM author"
   ]
  },
  {
   "cell_type": "markdown",
   "id": "5faa24b6",
   "metadata": {},
   "source": [
    "**Here the \"bookAuthor\" table is created, with two foreign keys, \"authorID\" and \"bookID\"**"
   ]
  },
  {
   "cell_type": "code",
   "execution_count": 112,
   "id": "a0167ece",
   "metadata": {},
   "outputs": [
    {
     "name": "stdout",
     "output_type": "stream",
     "text": [
      "   sqlite:///empty_db.db\n",
      " * sqlite:///libraryDB.db\n",
      "Done.\n",
      "Done.\n",
      "Done.\n"
     ]
    },
    {
     "data": {
      "text/html": [
       "<table>\n",
       "    <thead>\n",
       "        <tr>\n",
       "            <th>bookID</th>\n",
       "            <th>authorID</th>\n",
       "        </tr>\n",
       "    </thead>\n",
       "    <tbody>\n",
       "    </tbody>\n",
       "</table>"
      ],
      "text/plain": [
       "[]"
      ]
     },
     "execution_count": 112,
     "metadata": {},
     "output_type": "execute_result"
    }
   ],
   "source": [
    "%%sql\n",
    "CREATE TABLE bookAuthor (\n",
    "    bookID INT NOT NULL DEFAULT '',\n",
    "    authorID INT NOT NULL DEFAULT '',\n",
    "    CONSTRAINT book FOREIGN KEY (bookID)\n",
    "    REFERENCES book (bookID)\n",
    "    CONSTRAINT author FOREIGN KEY (authorID)\n",
    "    REFERENCES author (authorID)\n",
    "    \n",
    ");\n",
    "    \n",
    "SELECT *\n",
    "FROM bookAuthor"
   ]
  },
  {
   "cell_type": "markdown",
   "id": "f70395f5",
   "metadata": {},
   "source": [
    "**Here the \"bookBranches\" table is created, with two foreign keys, \"bookID\" and \"branchID\"**"
   ]
  },
  {
   "cell_type": "code",
   "execution_count": 113,
   "id": "c212944a",
   "metadata": {},
   "outputs": [
    {
     "name": "stdout",
     "output_type": "stream",
     "text": [
      "   sqlite:///empty_db.db\n",
      " * sqlite:///libraryDB.db\n",
      "Done.\n",
      "Done.\n",
      "Done.\n"
     ]
    },
    {
     "data": {
      "text/html": [
       "<table>\n",
       "    <thead>\n",
       "        <tr>\n",
       "            <th>bookID</th>\n",
       "            <th>branchID</th>\n",
       "        </tr>\n",
       "    </thead>\n",
       "    <tbody>\n",
       "    </tbody>\n",
       "</table>"
      ],
      "text/plain": [
       "[]"
      ]
     },
     "execution_count": 113,
     "metadata": {},
     "output_type": "execute_result"
    }
   ],
   "source": [
    "%%sql\n",
    "CREATE TABLE bookBranches (\n",
    "    bookID INT NOT NULL UNIQUE,\n",
    "    branchID INT NOT NULL UNIQUE,\n",
    "    CONSTRAINT book FOREIGN KEY (bookID)\n",
    "    REFERENCES book (bookID)\n",
    "    CONSTRAINT branches FOREIGN KEY (branchID)\n",
    "    REFERENCES branches (branchID)\n",
    "    \n",
    ");\n",
    "    \n",
    "SELECT *\n",
    "FROM bookBranches"
   ]
  },
  {
   "cell_type": "markdown",
   "id": "7e5dacf4",
   "metadata": {},
   "source": [
    "# These queries are psuedo coded to fit the requirements of the project description\n",
    "\n",
    "**Query for finding how many copies of the book titled \"A\" and published by \"B\" are owned by the library branch whose address is \"C\"**"
   ]
  },
  {
   "cell_type": "code",
   "execution_count": 128,
   "id": "b72ea892",
   "metadata": {},
   "outputs": [
    {
     "name": "stdout",
     "output_type": "stream",
     "text": [
      "   sqlite:///empty_db.db\n",
      " * sqlite:///libraryDB.db\n",
      "Done.\n"
     ]
    },
    {
     "data": {
      "text/html": [
       "<table>\n",
       "    <thead>\n",
       "        <tr>\n",
       "            <th>COUNT(*)</th>\n",
       "        </tr>\n",
       "    </thead>\n",
       "    <tbody>\n",
       "        <tr>\n",
       "            <td>0</td>\n",
       "        </tr>\n",
       "    </tbody>\n",
       "</table>"
      ],
      "text/plain": [
       "[(0,)]"
      ]
     },
     "execution_count": 128,
     "metadata": {},
     "output_type": "execute_result"
    }
   ],
   "source": [
    "%%sql\n",
    "SELECT COUNT(*)\n",
    "FROM books\n",
    "WHERE title = 'A' AND publisher = 'B' AND branchID IN (\n",
    "    SELECT branchID\n",
    "    FROM branches\n",
    "    WHERE address = 'C'\n",
    ");"
   ]
  },
  {
   "cell_type": "markdown",
   "id": "a3b6bc2a",
   "metadata": {},
   "source": [
    "**How many copies of the book titled \"A\" are owned by each library branch**"
   ]
  },
  {
   "cell_type": "code",
   "execution_count": 129,
   "id": "8948ff9e",
   "metadata": {},
   "outputs": [
    {
     "name": "stdout",
     "output_type": "stream",
     "text": [
      "   sqlite:///empty_db.db\n",
      " * sqlite:///libraryDB.db\n",
      "Done.\n"
     ]
    },
    {
     "data": {
      "text/html": [
       "<table>\n",
       "    <thead>\n",
       "        <tr>\n",
       "            <th>COUNT(branchID)</th>\n",
       "        </tr>\n",
       "    </thead>\n",
       "    <tbody>\n",
       "    </tbody>\n",
       "</table>"
      ],
      "text/plain": [
       "[]"
      ]
     },
     "execution_count": 129,
     "metadata": {},
     "output_type": "execute_result"
    }
   ],
   "source": [
    "%%sql\n",
    "SELECT COUNT(branchID)\n",
    "FROM Books\n",
    "WHERE title = 'A'\n",
    "GROUP BY branchID;"
   ]
  },
  {
   "cell_type": "markdown",
   "id": "47cfb634",
   "metadata": {},
   "source": [
    "**Retrieve the names of all borrowers who borrowed the book titled \"A\" for each library branch**"
   ]
  },
  {
   "cell_type": "code",
   "execution_count": 130,
   "id": "a86896b2",
   "metadata": {},
   "outputs": [
    {
     "name": "stdout",
     "output_type": "stream",
     "text": [
      "   sqlite:///empty_db.db\n",
      " * sqlite:///libraryDB.db\n",
      "Done.\n"
     ]
    },
    {
     "data": {
      "text/html": [
       "<table>\n",
       "    <thead>\n",
       "        <tr>\n",
       "            <th>firstName</th>\n",
       "            <th>lastName</th>\n",
       "            <th>name</th>\n",
       "        </tr>\n",
       "    </thead>\n",
       "    <tbody>\n",
       "    </tbody>\n",
       "</table>"
      ],
      "text/plain": [
       "[]"
      ]
     },
     "execution_count": 130,
     "metadata": {},
     "output_type": "execute_result"
    }
   ],
   "source": [
    "%%sql\n",
    "SELECT borrowers.firstName, borrowers.lastName, branches.name\n",
    "FROM books\n",
    "INNER JOIN lentBooks ON books.bookID = lentBooks.bookID\n",
    "INNER JOIN borrowers ON lentBooks.borrowerID = borrowers.borrowerID\n",
    "INNER JOIN branches ON books.branchID = branches.branchID\n",
    "WHERE books.title = 'A';"
   ]
  },
  {
   "cell_type": "markdown",
   "id": "3a58e142",
   "metadata": {},
   "source": [
    "**For each book that is loaned out from the branch \"A\" and whose due date is today, retrieve the book title, the borrower's name, and the borrower's address**"
   ]
  },
  {
   "cell_type": "code",
   "execution_count": 132,
   "id": "c747c658",
   "metadata": {},
   "outputs": [
    {
     "name": "stdout",
     "output_type": "stream",
     "text": [
      "   sqlite:///empty_db.db\n",
      " * sqlite:///libraryDB.db\n",
      "Done.\n"
     ]
    },
    {
     "data": {
      "text/html": [
       "<table>\n",
       "    <thead>\n",
       "        <tr>\n",
       "            <th>title</th>\n",
       "            <th>firstName</th>\n",
       "            <th>lastName</th>\n",
       "            <th>address</th>\n",
       "        </tr>\n",
       "    </thead>\n",
       "    <tbody>\n",
       "    </tbody>\n",
       "</table>"
      ],
      "text/plain": [
       "[]"
      ]
     },
     "execution_count": 132,
     "metadata": {},
     "output_type": "execute_result"
    }
   ],
   "source": [
    "%%sql\n",
    "SELECT books.title, borrowers.firstName, borrowers.lastName, borrowers.address\n",
    "FROM lentBooks\n",
    "INNER JOIN books ON lentBooks.bookID = books.bookID\n",
    "INNER JOIN borrowers ON lentBooks.borrowerID = borrowers.borrowerID\n",
    "WHERE lentBooks.dueDate = 'getToday()' AND branchID = 'A';"
   ]
  },
  {
   "cell_type": "markdown",
   "id": "b2ea9fda",
   "metadata": {},
   "source": [
    "**For each branch, retrieve the branch name and the total number of books loaned out from that branch**"
   ]
  },
  {
   "cell_type": "code",
   "execution_count": 125,
   "id": "391c40b0",
   "metadata": {},
   "outputs": [
    {
     "name": "stdout",
     "output_type": "stream",
     "text": [
      "   sqlite:///empty_db.db\n",
      " * sqlite:///libraryDB.db\n",
      "Done.\n"
     ]
    },
    {
     "data": {
      "text/html": [
       "<table>\n",
       "    <thead>\n",
       "        <tr>\n",
       "            <th>name</th>\n",
       "            <th>COUNT(bookID)</th>\n",
       "        </tr>\n",
       "    </thead>\n",
       "    <tbody>\n",
       "    </tbody>\n",
       "</table>"
      ],
      "text/plain": [
       "[]"
      ]
     },
     "execution_count": 125,
     "metadata": {},
     "output_type": "execute_result"
    }
   ],
   "source": [
    "%%sql\n",
    "SELECT branches.name, COUNT(bookID)\n",
    "FROM branches\n",
    "INNER JOIN books ON branches.branchID = books.branchID\n",
    "WHERE bookID IN (\n",
    "    SELECT lentBooks.bookID\n",
    "    FROM lentBooks\n",
    "    )\n",
    "GROUP BY branches.branchID;"
   ]
  },
  {
   "cell_type": "code",
   "execution_count": null,
   "id": "1856fa1e",
   "metadata": {},
   "outputs": [],
   "source": []
  }
 ],
 "metadata": {
  "kernelspec": {
   "display_name": "Python 3",
   "language": "python",
   "name": "python3"
  },
  "language_info": {
   "codemirror_mode": {
    "name": "ipython",
    "version": 3
   },
   "file_extension": ".py",
   "mimetype": "text/x-python",
   "name": "python",
   "nbconvert_exporter": "python",
   "pygments_lexer": "ipython3",
   "version": "3.8.8"
  }
 },
 "nbformat": 4,
 "nbformat_minor": 5
}
