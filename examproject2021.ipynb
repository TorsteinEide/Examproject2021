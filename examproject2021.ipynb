{
 "cells": [
  {
   "cell_type": "code",
   "execution_count": 1,
   "id": "dc39cf98",
   "metadata": {},
   "outputs": [],
   "source": [
    "%load_ext sql"
   ]
  },
  {
   "cell_type": "code",
   "execution_count": 58,
   "id": "ce061ee2",
   "metadata": {},
   "outputs": [
    {
     "data": {
      "text/plain": [
       "'Connected: @empty_db.db'"
      ]
     },
     "execution_count": 58,
     "metadata": {},
     "output_type": "execute_result"
    }
   ],
   "source": [
    "%sql sqlite:///empty_db.db"
   ]
  },
  {
   "cell_type": "markdown",
   "id": "d79c1f4d",
   "metadata": {},
   "source": [
    "# Create each of the tables from database design\n",
    "\n",
    "**Here the \"books\" table is created with columns: bookID, title, publisher, releaseDate, isbn and borrowerID**\n",
    "\n",
    "**The bookID column is the primary key, with borrowersID as a foreign key**"
   ]
  },
  {
   "cell_type": "code",
   "execution_count": 75,
   "id": "db034bfc",
   "metadata": {},
   "outputs": [
    {
     "name": "stdout",
     "output_type": "stream",
     "text": [
      " * sqlite:///empty_db.db\n",
      "Done.\n",
      "Done.\n",
      "Done.\n"
     ]
    },
    {
     "data": {
      "text/html": [
       "<table>\n",
       "    <thead>\n",
       "        <tr>\n",
       "            <th>bookID</th>\n",
       "            <th>title</th>\n",
       "            <th>publisher</th>\n",
       "            <th>releaseDate</th>\n",
       "            <th>isbn</th>\n",
       "        </tr>\n",
       "    </thead>\n",
       "    <tbody>\n",
       "    </tbody>\n",
       "</table>"
      ],
      "text/plain": [
       "[]"
      ]
     },
     "execution_count": 75,
     "metadata": {},
     "output_type": "execute_result"
    }
   ],
   "source": [
    "%%sql\n",
    "DROP TABLE IF EXISTS books;\n",
    "CREATE TABLE books (\n",
    "    bookID INT NOT NULL UNIQUE,\n",
    "    title VARCHAR(255) NOT NULL DEFAULT '',\n",
    "    publisher VARCHAR(255) NOT NULL DEFAULT '', \n",
    "    releaseDate date NOT NULL DEFAULT '',\n",
    "    isbn INT NOT NULL DEFAULT '', \n",
    "    PRIMARY KEY (bookID)\n",
    ");\n",
    "\n",
    "SELECT *\n",
    "FROM books"
   ]
  },
  {
   "cell_type": "markdown",
   "id": "a6c471ce",
   "metadata": {},
   "source": [
    "**Here the \"branches\" table is created, with branchID as primary key**"
   ]
  },
  {
   "cell_type": "code",
   "execution_count": 80,
   "id": "94027fdf",
   "metadata": {},
   "outputs": [
    {
     "name": "stdout",
     "output_type": "stream",
     "text": [
      " * sqlite:///empty_db.db\n",
      "Done.\n",
      "Done.\n",
      "Done.\n"
     ]
    },
    {
     "data": {
      "text/html": [
       "<table>\n",
       "    <thead>\n",
       "        <tr>\n",
       "            <th>branchID</th>\n",
       "            <th>name</th>\n",
       "            <th>address</th>\n",
       "            <th>zipCode</th>\n",
       "            <th>city</th>\n",
       "        </tr>\n",
       "    </thead>\n",
       "    <tbody>\n",
       "    </tbody>\n",
       "</table>"
      ],
      "text/plain": [
       "[]"
      ]
     },
     "execution_count": 80,
     "metadata": {},
     "output_type": "execute_result"
    }
   ],
   "source": [
    "%%sql\n",
    "DROP TABLE IF EXISTS branches;\n",
    "CREATE TABLE branches (\n",
    "    branchID INT NOT NULL UNIQUE,\n",
    "    name VARCHAR(255) NOT NULL DEFAULT '',\n",
    "    address VARCHAR(255) NOT NULL DEFAULT '', \n",
    "    zipCode INT NOT NULL DEFAULT '',\n",
    "    city VARCHAR(255) NOT NULL DEFAULT '',\n",
    "    PRIMARY KEY (branchID)\n",
    ");\n",
    "\n",
    "SELECT * \n",
    "FROM branches"
   ]
  },
  {
   "cell_type": "markdown",
   "id": "29238eed",
   "metadata": {},
   "source": [
    "**Here the \"borrowers\" table is created, with borrowerID as primary key**"
   ]
  },
  {
   "cell_type": "code",
   "execution_count": 81,
   "id": "bac7b7ca",
   "metadata": {},
   "outputs": [
    {
     "name": "stdout",
     "output_type": "stream",
     "text": [
      " * sqlite:///empty_db.db\n",
      "Done.\n",
      "Done.\n",
      "Done.\n"
     ]
    },
    {
     "data": {
      "text/html": [
       "<table>\n",
       "    <thead>\n",
       "        <tr>\n",
       "            <th>borrowerID</th>\n",
       "            <th>firstName</th>\n",
       "            <th>lastName</th>\n",
       "            <th>address</th>\n",
       "            <th>zipCode</th>\n",
       "            <th>city</th>\n",
       "            <th>email</th>\n",
       "            <th>phoneNumber</th>\n",
       "        </tr>\n",
       "    </thead>\n",
       "    <tbody>\n",
       "    </tbody>\n",
       "</table>"
      ],
      "text/plain": [
       "[]"
      ]
     },
     "execution_count": 81,
     "metadata": {},
     "output_type": "execute_result"
    }
   ],
   "source": [
    "%%sql\n",
    "DROP TABLE IF EXISTS borrowers;\n",
    "CREATE TABLE borrowers (\n",
    "    borrowerID INT NOT NULL UNIQUE,\n",
    "    firstName VARCHAR(255) NOT NULL DEFAULT '',\n",
    "    lastName VARCHAR(255) NOT NULL DEFAULT '', \n",
    "    address VARCHAR(255) NOT NULL DEFAULT '',\n",
    "    zipCode INT NOT NULL DEFAULT '',\n",
    "    city VARCHAR(255) NOT NULL DEFAULT '', \n",
    "    email VARCHAR(255) NOT NULL DEFAULT '',\n",
    "    phoneNumber INT NOT NULL DEFAULT '',\n",
    "    PRIMARY KEY (borrowerID)\n",
    ");\n",
    "\n",
    "SELECT *\n",
    "FROM borrowers"
   ]
  },
  {
   "cell_type": "markdown",
   "id": "84968b9b",
   "metadata": {},
   "source": [
    "**Here the \"lentBooks\" table is created, with two foreign keys, \"bookID\" and \"borrowerID\", which together will act as a primary key.**"
   ]
  },
  {
   "cell_type": "code",
   "execution_count": 82,
   "id": "ad4b848c",
   "metadata": {},
   "outputs": [
    {
     "name": "stdout",
     "output_type": "stream",
     "text": [
      " * sqlite:///empty_db.db\n",
      "Done.\n",
      "Done.\n",
      "Done.\n"
     ]
    },
    {
     "data": {
      "text/html": [
       "<table>\n",
       "    <thead>\n",
       "        <tr>\n",
       "            <th>bookID</th>\n",
       "            <th>dueDate</th>\n",
       "            <th>borrowerID</th>\n",
       "        </tr>\n",
       "    </thead>\n",
       "    <tbody>\n",
       "    </tbody>\n",
       "</table>"
      ],
      "text/plain": [
       "[]"
      ]
     },
     "execution_count": 82,
     "metadata": {},
     "output_type": "execute_result"
    }
   ],
   "source": [
    "%%sql\n",
    "DROP TABLE IF EXISTS lentBooks;\n",
    "CREATE TABLE lentBooks (\n",
    "    bookID INT NOT NULL UNIQUE,\n",
    "    dueDate date NOT NULL DEFAULT '',\n",
    "    borrowerID INT NOT NULL DEFAULT '',\n",
    "    CONSTRAINT borrowers FOREIGN KEY (borrowerID)\n",
    "    REFERENCES borrowers(borrowerID)\n",
    "    \n",
    "    PRIMARY KEY (bookID)\n",
    "    \n",
    ");\n",
    "\n",
    "SELECT *\n",
    "FROM dueDate"
   ]
  },
  {
   "cell_type": "markdown",
   "id": "24fbe1de",
   "metadata": {},
   "source": [
    "**Here the \"author\" table is created, with a primary key \"author\".**"
   ]
  },
  {
   "cell_type": "code",
   "execution_count": 77,
   "id": "a5537c89",
   "metadata": {},
   "outputs": [
    {
     "name": "stdout",
     "output_type": "stream",
     "text": [
      " * sqlite:///empty_db.db\n",
      "Done.\n",
      "Done.\n",
      "Done.\n"
     ]
    },
    {
     "data": {
      "text/html": [
       "<table>\n",
       "    <thead>\n",
       "        <tr>\n",
       "            <th>authorID</th>\n",
       "            <th>firstName</th>\n",
       "            <th>lastName</th>\n",
       "        </tr>\n",
       "    </thead>\n",
       "    <tbody>\n",
       "    </tbody>\n",
       "</table>"
      ],
      "text/plain": [
       "[]"
      ]
     },
     "execution_count": 77,
     "metadata": {},
     "output_type": "execute_result"
    }
   ],
   "source": [
    "%%sql\n",
    "DROP TABLE IF EXISTS author;\n",
    "CREATE TABLE author (\n",
    "    authorID INT  NOT NULL UNIQUE,\n",
    "    firstName varchar(255) NOT NULL DEFAULT '',\n",
    "    lastName varchar(255) NOT NULL DEFAULT '',\n",
    "    \n",
    "    PRIMARY KEY (authorID)\n",
    ");\n",
    "\n",
    "SELECT *\n",
    "FROM author"
   ]
  },
  {
   "cell_type": "code",
   "execution_count": 78,
   "id": "5e5b9bea",
   "metadata": {},
   "outputs": [
    {
     "name": "stdout",
     "output_type": "stream",
     "text": [
      " * sqlite:///empty_db.db\n",
      "Done.\n",
      "Done.\n",
      "Done.\n"
     ]
    },
    {
     "data": {
      "text/html": [
       "<table>\n",
       "    <thead>\n",
       "        <tr>\n",
       "            <th>bookID</th>\n",
       "            <th>authorID</th>\n",
       "        </tr>\n",
       "    </thead>\n",
       "    <tbody>\n",
       "    </tbody>\n",
       "</table>"
      ],
      "text/plain": [
       "[]"
      ]
     },
     "execution_count": 78,
     "metadata": {},
     "output_type": "execute_result"
    }
   ],
   "source": [
    "%%sql\n",
    "DROP TABLE IF EXISTS bookAuthor;\n",
    "CREATE TABLE bookAuthor (\n",
    "    bookID INT NOT NULL UNIQUE,\n",
    "    authorID INT NOT NULL UNIQUE,\n",
    "    CONSTRAINT book FOREIGN KEY (bookID)\n",
    "    REFERENCES book (bookID)\n",
    "    CONSTRAINT author FOREIGN KEY (authorID)\n",
    "    REFERENCES author (authorID)\n",
    "    \n",
    ");\n",
    "    \n",
    "SELECT *\n",
    "FROM bookAuthor"
   ]
  },
  {
   "cell_type": "code",
   "execution_count": 79,
   "id": "11b92880",
   "metadata": {},
   "outputs": [
    {
     "name": "stdout",
     "output_type": "stream",
     "text": [
      " * sqlite:///empty_db.db\n",
      "Done.\n",
      "Done.\n",
      "Done.\n"
     ]
    },
    {
     "data": {
      "text/html": [
       "<table>\n",
       "    <thead>\n",
       "        <tr>\n",
       "            <th>bookID</th>\n",
       "            <th>branchID</th>\n",
       "        </tr>\n",
       "    </thead>\n",
       "    <tbody>\n",
       "    </tbody>\n",
       "</table>"
      ],
      "text/plain": [
       "[]"
      ]
     },
     "execution_count": 79,
     "metadata": {},
     "output_type": "execute_result"
    }
   ],
   "source": [
    "%%sql\n",
    "DROP TABLE IF EXISTS bookBranches;\n",
    "CREATE TABLE bookBranches (\n",
    "    bookID INT NOT NULL UNIQUE,\n",
    "    branchID INT NOT NULL UNIQUE,\n",
    "    CONSTRAINT book FOREIGN KEY (bookID)\n",
    "    REFERENCES book (bookID)\n",
    "    CONSTRAINT branches FOREIGN KEY (branchID)\n",
    "    REFERENCES branches (branchID)\n",
    "    \n",
    ");\n",
    "    \n",
    "SELECT *\n",
    "FROM bookBranches"
   ]
  },
  {
   "cell_type": "code",
   "execution_count": null,
   "id": "2362df72",
   "metadata": {},
   "outputs": [],
   "source": []
  }
 ],
 "metadata": {
  "kernelspec": {
   "display_name": "Python 3",
   "language": "python",
   "name": "python3"
  },
  "language_info": {
   "codemirror_mode": {
    "name": "ipython",
    "version": 3
   },
   "file_extension": ".py",
   "mimetype": "text/x-python",
   "name": "python",
   "nbconvert_exporter": "python",
   "pygments_lexer": "ipython3",
   "version": "3.8.8"
  }
 },
 "nbformat": 4,
 "nbformat_minor": 5
}
