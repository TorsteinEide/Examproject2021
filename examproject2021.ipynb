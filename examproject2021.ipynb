{
 "cells": [
  {
   "cell_type": "code",
   "execution_count": 50,
   "id": "f76e67b6",
   "metadata": {},
   "outputs": [
    {
     "name": "stdout",
     "output_type": "stream",
     "text": [
      "The sql extension is already loaded. To reload it, use:\n",
      "  %reload_ext sql\n"
     ]
    }
   ],
   "source": [
    "%load_ext sql"
   ]
  },
  {
   "cell_type": "code",
   "execution_count": 51,
   "id": "f4ddff05",
   "metadata": {},
   "outputs": [
    {
     "data": {
      "text/plain": [
       "'Connected: @libraryDB.db'"
      ]
     },
     "execution_count": 51,
     "metadata": {},
     "output_type": "execute_result"
    }
   ],
   "source": [
    "%sql sqlite:///libraryDB.db"
   ]
  },
  {
   "cell_type": "markdown",
   "id": "691cc038",
   "metadata": {},
   "source": [
    "# Create each of the tables from database design\n",
    "\n",
    "**Here the \"books\" table is created with columns: bookID, title, publisher, releaseDate, isbn and borrowerID**\n",
    "\n",
    "**The bookID column is the primary key, with borrowersID as a foreign key**"
   ]
  },
  {
   "cell_type": "code",
   "execution_count": 52,
   "id": "eb90de26",
   "metadata": {},
   "outputs": [
    {
     "name": "stdout",
     "output_type": "stream",
     "text": [
      " * sqlite:///libraryDB.db\n",
      "Done.\n",
      "Done.\n",
      "Done.\n"
     ]
    },
    {
     "data": {
      "text/html": [
       "<table>\n",
       "    <thead>\n",
       "        <tr>\n",
       "            <th>bookID</th>\n",
       "            <th>title</th>\n",
       "            <th>publisher</th>\n",
       "            <th>releaseDate</th>\n",
       "            <th>isbn</th>\n",
       "            <th>branchID</th>\n",
       "        </tr>\n",
       "    </thead>\n",
       "    <tbody>\n",
       "    </tbody>\n",
       "</table>"
      ],
      "text/plain": [
       "[]"
      ]
     },
     "execution_count": 52,
     "metadata": {},
     "output_type": "execute_result"
    }
   ],
   "source": [
    "%%sql\n",
    "DROP TABLE IF EXISTS books;\n",
    "CREATE TABLE books (\n",
    "    bookID INT NOT NULL UNIQUE,\n",
    "    title VARCHAR(255) NOT NULL DEFAULT '',\n",
    "    publisher VARCHAR(255) NOT NULL DEFAULT '', \n",
    "    releaseDate date NOT NULL DEFAULT '',\n",
    "    isbn INT NOT NULL DEFAULT '', \n",
    "    branchID VARCHAR(255) NOT NULL DEFAULT '',\n",
    "    CONSTRAINT branches FOREIGN KEY (branchID)\n",
    "    REFERENCES branches(branchID)\n",
    "    PRIMARY KEY (bookID)\n",
    ");\n",
    "\n",
    "SELECT *\n",
    "FROM books"
   ]
  },
  {
   "cell_type": "markdown",
   "id": "eb399f53",
   "metadata": {},
   "source": [
    "**Here the \"branches\" table is created, with branchID as primary key**"
   ]
  },
  {
   "cell_type": "code",
   "execution_count": 53,
   "id": "94014879",
   "metadata": {},
   "outputs": [
    {
     "name": "stdout",
     "output_type": "stream",
     "text": [
      " * sqlite:///libraryDB.db\n",
      "Done.\n",
      "Done.\n",
      "Done.\n"
     ]
    },
    {
     "data": {
      "text/html": [
       "<table>\n",
       "    <thead>\n",
       "        <tr>\n",
       "            <th>branchID</th>\n",
       "            <th>name</th>\n",
       "            <th>address</th>\n",
       "            <th>zipCode</th>\n",
       "            <th>city</th>\n",
       "        </tr>\n",
       "    </thead>\n",
       "    <tbody>\n",
       "    </tbody>\n",
       "</table>"
      ],
      "text/plain": [
       "[]"
      ]
     },
     "execution_count": 53,
     "metadata": {},
     "output_type": "execute_result"
    }
   ],
   "source": [
    "%%sql\n",
    "DROP TABLE IF EXISTS branches;\n",
    "CREATE TABLE branches (\n",
    "    branchID INT NOT NULL UNIQUE,\n",
    "    name VARCHAR(255) NOT NULL DEFAULT '',\n",
    "    address VARCHAR(255) NOT NULL DEFAULT '', \n",
    "    zipCode INT NOT NULL DEFAULT '',\n",
    "    city VARCHAR(255) NOT NULL DEFAULT '',\n",
    "    PRIMARY KEY (branchID)\n",
    ");\n",
    "\n",
    "SELECT * \n",
    "FROM branches"
   ]
  },
  {
   "cell_type": "markdown",
   "id": "910c623e",
   "metadata": {},
   "source": [
    "**Here the \"borrowers\" table is created, with borrowerID as primary key**"
   ]
  },
  {
   "cell_type": "code",
   "execution_count": 54,
   "id": "a025be6f",
   "metadata": {},
   "outputs": [
    {
     "name": "stdout",
     "output_type": "stream",
     "text": [
      " * sqlite:///libraryDB.db\n",
      "Done.\n",
      "Done.\n",
      "Done.\n"
     ]
    },
    {
     "data": {
      "text/html": [
       "<table>\n",
       "    <thead>\n",
       "        <tr>\n",
       "            <th>borrowerID</th>\n",
       "            <th>firstName</th>\n",
       "            <th>lastName</th>\n",
       "            <th>address</th>\n",
       "            <th>zipCode</th>\n",
       "            <th>city</th>\n",
       "            <th>email</th>\n",
       "            <th>phoneNumber</th>\n",
       "        </tr>\n",
       "    </thead>\n",
       "    <tbody>\n",
       "    </tbody>\n",
       "</table>"
      ],
      "text/plain": [
       "[]"
      ]
     },
     "execution_count": 54,
     "metadata": {},
     "output_type": "execute_result"
    }
   ],
   "source": [
    "%%sql\n",
    "DROP TABLE IF EXISTS borrowers;\n",
    "CREATE TABLE borrowers (\n",
    "    borrowerID INT NOT NULL UNIQUE,\n",
    "    firstName VARCHAR(255) NOT NULL DEFAULT '',\n",
    "    lastName VARCHAR(255) NOT NULL DEFAULT '', \n",
    "    address VARCHAR(255) NOT NULL DEFAULT '',\n",
    "    zipCode INT NOT NULL DEFAULT '',\n",
    "    city VARCHAR(255) NOT NULL DEFAULT '', \n",
    "    email VARCHAR(255) NOT NULL DEFAULT '',\n",
    "    phoneNumber INT NOT NULL DEFAULT '',\n",
    "    PRIMARY KEY (borrowerID)\n",
    ");\n",
    "\n",
    "SELECT *\n",
    "FROM borrowers"
   ]
  },
  {
   "cell_type": "markdown",
   "id": "ed5c6c93",
   "metadata": {},
   "source": [
    "**Here the \"lentBooks\" table is created, with two foreign keys, \"bookID\" and \"borrowerID\", which together will act as a primary key.**"
   ]
  },
  {
   "cell_type": "code",
   "execution_count": 55,
   "id": "1d101b75",
   "metadata": {},
   "outputs": [
    {
     "name": "stdout",
     "output_type": "stream",
     "text": [
      " * sqlite:///libraryDB.db\n",
      "Done.\n",
      "Done.\n",
      "(sqlite3.OperationalError) no such table: dueDate\n",
      "[SQL: SELECT *\n",
      "FROM dueDate]\n",
      "(Background on this error at: http://sqlalche.me/e/13/e3q8)\n"
     ]
    }
   ],
   "source": [
    "%%sql\n",
    "DROP TABLE IF EXISTS lentBooks;\n",
    "CREATE TABLE lentBooks (\n",
    "    bookID INT NOT NULL UNIQUE,\n",
    "    dueDate date NOT NULL DEFAULT '',\n",
    "    borrowerID INT NOT NULL DEFAULT '',\n",
    "    CONSTRAINT borrowers FOREIGN KEY (borrowerID)\n",
    "    REFERENCES borrowers(borrowerID)\n",
    "    \n",
    "    PRIMARY KEY (bookID)\n",
    "    \n",
    ");\n",
    "\n",
    "SELECT *\n",
    "FROM dueDate"
   ]
  },
  {
   "cell_type": "markdown",
   "id": "1a30146a",
   "metadata": {},
   "source": [
    "**Here the \"author\" table is created, with a primary key \"author\".**"
   ]
  },
  {
   "cell_type": "code",
   "execution_count": 56,
   "id": "43bbf1fc",
   "metadata": {},
   "outputs": [
    {
     "name": "stdout",
     "output_type": "stream",
     "text": [
      " * sqlite:///libraryDB.db\n",
      "Done.\n",
      "Done.\n",
      "Done.\n"
     ]
    },
    {
     "data": {
      "text/html": [
       "<table>\n",
       "    <thead>\n",
       "        <tr>\n",
       "            <th>authorID</th>\n",
       "            <th>firstName</th>\n",
       "            <th>lastName</th>\n",
       "        </tr>\n",
       "    </thead>\n",
       "    <tbody>\n",
       "    </tbody>\n",
       "</table>"
      ],
      "text/plain": [
       "[]"
      ]
     },
     "execution_count": 56,
     "metadata": {},
     "output_type": "execute_result"
    }
   ],
   "source": [
    "%%sql\n",
    "DROP TABLE IF EXISTS author;\n",
    "CREATE TABLE author (\n",
    "    authorID INT  NOT NULL UNIQUE,\n",
    "    firstName varchar(255) NOT NULL DEFAULT '',\n",
    "    lastName varchar(255) NOT NULL DEFAULT '',\n",
    "    \n",
    "    PRIMARY KEY (authorID)\n",
    ");\n",
    "\n",
    "SELECT *\n",
    "FROM author"
   ]
  },
  {
   "cell_type": "markdown",
   "id": "4c3c6bec",
   "metadata": {},
   "source": [
    "**Here the \"bookAuthor\" table is created, with two foreign keys, \"authorID\" and \"bookID\"**"
   ]
  },
  {
   "cell_type": "code",
   "execution_count": 71,
   "id": "206d8ad8",
   "metadata": {},
   "outputs": [
    {
     "name": "stdout",
     "output_type": "stream",
     "text": [
      " * sqlite:///libraryDB.db\n",
      "Done.\n",
      "Done.\n",
      "Done.\n"
     ]
    },
    {
     "data": {
      "text/html": [
       "<table>\n",
       "    <thead>\n",
       "        <tr>\n",
       "            <th>bookID</th>\n",
       "            <th>authorID</th>\n",
       "        </tr>\n",
       "    </thead>\n",
       "    <tbody>\n",
       "    </tbody>\n",
       "</table>"
      ],
      "text/plain": [
       "[]"
      ]
     },
     "execution_count": 71,
     "metadata": {},
     "output_type": "execute_result"
    }
   ],
   "source": [
    "%%sql\n",
    "DROP TABLE IF EXISTS bookAuthor;\n",
    "CREATE TABLE bookAuthor (\n",
    "    bookID INT NOT NULL DEFAULT '',\n",
    "    authorID INT NOT NULL DEFAULT '',\n",
    "    CONSTRAINT book FOREIGN KEY (bookID)\n",
    "    REFERENCES book (bookID)\n",
    "    CONSTRAINT author FOREIGN KEY (authorID)\n",
    "    REFERENCES author (authorID)\n",
    "    \n",
    ");\n",
    "    \n",
    "SELECT *\n",
    "FROM bookAuthor"
   ]
  },
  {
   "cell_type": "markdown",
   "id": "82e48aa2",
   "metadata": {},
   "source": [
    "**Here the \"bookBranches\" table is created, with two foreign keys, \"bookID\" and \"branchID\"**"
   ]
  },
  {
   "cell_type": "code",
   "execution_count": 78,
   "id": "9449a904",
   "metadata": {},
   "outputs": [
    {
     "name": "stdout",
     "output_type": "stream",
     "text": [
      " * sqlite:///libraryDB.db\n",
      "Done.\n",
      "Done.\n",
      "Done.\n"
     ]
    },
    {
     "data": {
      "text/html": [
       "<table>\n",
       "    <thead>\n",
       "        <tr>\n",
       "            <th>bookID</th>\n",
       "            <th>branchID</th>\n",
       "        </tr>\n",
       "    </thead>\n",
       "    <tbody>\n",
       "    </tbody>\n",
       "</table>"
      ],
      "text/plain": [
       "[]"
      ]
     },
     "execution_count": 78,
     "metadata": {},
     "output_type": "execute_result"
    }
   ],
   "source": [
    "%%sql\n",
    "DROP TABLE IF EXISTS bookBranches;\n",
    "CREATE TABLE bookBranches (\n",
    "    bookID INT NOT NULL DEFAULT '',\n",
    "    branchID INT NOT NULL DEFAULT '',\n",
    "    CONSTRAINT book FOREIGN KEY (bookID)\n",
    "    REFERENCES book (bookID)\n",
    "    CONSTRAINT branches FOREIGN KEY (branchID)\n",
    "    REFERENCES branches (branchID)\n",
    "    \n",
    ");\n",
    "    \n",
    "SELECT *\n",
    "FROM bookBranches"
   ]
  },
  {
   "cell_type": "code",
   "execution_count": 59,
   "id": "2f0e6aca",
   "metadata": {},
   "outputs": [
    {
     "name": "stdout",
     "output_type": "stream",
     "text": [
      " * sqlite:///libraryDB.db\n",
      "Done.\n"
     ]
    },
    {
     "data": {
      "text/html": [
       "<table>\n",
       "    <thead>\n",
       "        <tr>\n",
       "            <th>type</th>\n",
       "            <th>name</th>\n",
       "            <th>tbl_name</th>\n",
       "            <th>rootpage</th>\n",
       "            <th>sql</th>\n",
       "        </tr>\n",
       "    </thead>\n",
       "    <tbody>\n",
       "        <tr>\n",
       "            <td>table</td>\n",
       "            <td>author</td>\n",
       "            <td>author</td>\n",
       "            <td>11</td>\n",
       "            <td>CREATE TABLE author (<br>    authorID INT  NOT NULL UNIQUE,<br>    firstName varchar(255) NOT NULL DEFAULT &#x27;&#x27;,<br>    lastName varchar(255) NOT NULL DEFAULT &#x27;&#x27;,<br>    <br>    PRIMARY KEY (authorID)<br>)</td>\n",
       "        </tr>\n",
       "        <tr>\n",
       "            <td>table</td>\n",
       "            <td>bookAuthor</td>\n",
       "            <td>bookAuthor</td>\n",
       "            <td>13</td>\n",
       "            <td>CREATE TABLE bookAuthor (<br>    bookID INT NOT NULL UNIQUE,<br>    authorID INT NOT NULL UNIQUE,<br>    CONSTRAINT book FOREIGN KEY (bookID)<br>    REFERENCES book (bookID)<br>    CONSTRAINT author FOREIGN KEY (authorID)<br>    REFERENCES author (authorID)<br>    <br>)</td>\n",
       "        </tr>\n",
       "        <tr>\n",
       "            <td>table</td>\n",
       "            <td>bookBranches</td>\n",
       "            <td>bookBranches</td>\n",
       "            <td>16</td>\n",
       "            <td>CREATE TABLE bookBranches (<br>    bookID INT NOT NULL UNIQUE,<br>    branchID INT NOT NULL UNIQUE,<br>    CONSTRAINT book FOREIGN KEY (bookID)<br>    REFERENCES book (bookID)<br>    CONSTRAINT branches FOREIGN KEY (branchID)<br>    REFERENCES branches (branchID)<br>    <br>)</td>\n",
       "        </tr>\n",
       "        <tr>\n",
       "            <td>table</td>\n",
       "            <td>books</td>\n",
       "            <td>books</td>\n",
       "            <td>2</td>\n",
       "            <td>CREATE TABLE books (<br>    bookID INT NOT NULL UNIQUE,<br>    title VARCHAR(255) NOT NULL DEFAULT &#x27;&#x27;,<br>    publisher VARCHAR(255) NOT NULL DEFAULT &#x27;&#x27;, <br>    releaseDate date NOT NULL DEFAULT &#x27;&#x27;,<br>    isbn INT NOT NULL DEFAULT &#x27;&#x27;, <br>    branchID VARCHAR(255) NOT NULL DEFAULT &#x27;&#x27;,<br>    CONSTRAINT branches FOREIGN KEY (branchID)<br>    REFERENCES branches(branchID)<br>    PRIMARY KEY (bookID)<br>)</td>\n",
       "        </tr>\n",
       "        <tr>\n",
       "            <td>table</td>\n",
       "            <td>borrowers</td>\n",
       "            <td>borrowers</td>\n",
       "            <td>7</td>\n",
       "            <td>CREATE TABLE borrowers (<br>    borrowerID INT NOT NULL UNIQUE,<br>    firstName VARCHAR(255) NOT NULL DEFAULT &#x27;&#x27;,<br>    lastName VARCHAR(255) NOT NULL DEFAULT &#x27;&#x27;, <br>    address VARCHAR(255) NOT NULL DEFAULT &#x27;&#x27;,<br>    zipCode INT NOT NULL DEFAULT &#x27;&#x27;,<br>    city VARCHAR(255) NOT NULL DEFAULT &#x27;&#x27;, <br>    email VARCHAR(255) NOT NULL DEFAULT &#x27;&#x27;,<br>    phoneNumber INT NOT NULL DEFAULT &#x27;&#x27;,<br>    PRIMARY KEY (borrowerID)<br>)</td>\n",
       "        </tr>\n",
       "        <tr>\n",
       "            <td>table</td>\n",
       "            <td>branches</td>\n",
       "            <td>branches</td>\n",
       "            <td>5</td>\n",
       "            <td>CREATE TABLE branches (<br>    branchID INT NOT NULL UNIQUE,<br>    name VARCHAR(255) NOT NULL DEFAULT &#x27;&#x27;,<br>    address VARCHAR(255) NOT NULL DEFAULT &#x27;&#x27;, <br>    zipCode INT NOT NULL DEFAULT &#x27;&#x27;,<br>    city VARCHAR(255) NOT NULL DEFAULT &#x27;&#x27;,<br>    PRIMARY KEY (branchID)<br>)</td>\n",
       "        </tr>\n",
       "        <tr>\n",
       "            <td>table</td>\n",
       "            <td>lentBooks</td>\n",
       "            <td>lentBooks</td>\n",
       "            <td>9</td>\n",
       "            <td>CREATE TABLE lentBooks (<br>    bookID INT NOT NULL UNIQUE,<br>    dueDate date NOT NULL DEFAULT &#x27;&#x27;,<br>    borrowerID INT NOT NULL DEFAULT &#x27;&#x27;,<br>    CONSTRAINT borrowers FOREIGN KEY (borrowerID)<br>    REFERENCES borrowers(borrowerID)<br>    <br>    PRIMARY KEY (bookID)<br>    <br>)</td>\n",
       "        </tr>\n",
       "    </tbody>\n",
       "</table>"
      ],
      "text/plain": [
       "[('table', 'author', 'author', 11, \"CREATE TABLE author (\\n    authorID INT  NOT NULL UNIQUE,\\n    firstName varchar(255) NOT NULL DEFAULT '',\\n    lastName varchar(255) NOT NULL DEFAULT '',\\n    \\n    PRIMARY KEY (authorID)\\n)\"),\n",
       " ('table', 'bookAuthor', 'bookAuthor', 13, 'CREATE TABLE bookAuthor (\\n    bookID INT NOT NULL UNIQUE,\\n    authorID INT NOT NULL UNIQUE,\\n    CONSTRAINT book FOREIGN KEY (bookID)\\n    REFERENCES book (bookID)\\n    CONSTRAINT author FOREIGN KEY (authorID)\\n    REFERENCES author (authorID)\\n    \\n)'),\n",
       " ('table', 'bookBranches', 'bookBranches', 16, 'CREATE TABLE bookBranches (\\n    bookID INT NOT NULL UNIQUE,\\n    branchID INT NOT NULL UNIQUE,\\n    CONSTRAINT book FOREIGN KEY (bookID)\\n    REFERENCES book (bookID)\\n    CONSTRAINT branches FOREIGN KEY (branchID)\\n    REFERENCES branches (branchID)\\n    \\n)'),\n",
       " ('table', 'books', 'books', 2, \"CREATE TABLE books (\\n    bookID INT NOT NULL UNIQUE,\\n    title VARCHAR(255) NOT NULL DEFAULT '',\\n    publisher VARCHAR(255) NOT NULL DEFAULT '', \\ ... (89 characters truncated) ... hID VARCHAR(255) NOT NULL DEFAULT '',\\n    CONSTRAINT branches FOREIGN KEY (branchID)\\n    REFERENCES branches(branchID)\\n    PRIMARY KEY (bookID)\\n)\"),\n",
       " ('table', 'borrowers', 'borrowers', 7, \"CREATE TABLE borrowers (\\n    borrowerID INT NOT NULL UNIQUE,\\n    firstName VARCHAR(255) NOT NULL DEFAULT '',\\n    lastName VARCHAR(255) NOT NULL DE ... (111 characters truncated) ... AR(255) NOT NULL DEFAULT '', \\n    email VARCHAR(255) NOT NULL DEFAULT '',\\n    phoneNumber INT NOT NULL DEFAULT '',\\n    PRIMARY KEY (borrowerID)\\n)\"),\n",
       " ('table', 'branches', 'branches', 5, \"CREATE TABLE branches (\\n    branchID INT NOT NULL UNIQUE,\\n    name VARCHAR(255) NOT NULL DEFAULT '',\\n    address VARCHAR(255) NOT NULL DEFAULT '', \\n    zipCode INT NOT NULL DEFAULT '',\\n    city VARCHAR(255) NOT NULL DEFAULT '',\\n    PRIMARY KEY (branchID)\\n)\"),\n",
       " ('table', 'lentBooks', 'lentBooks', 9, \"CREATE TABLE lentBooks (\\n    bookID INT NOT NULL UNIQUE,\\n    dueDate date NOT NULL DEFAULT '',\\n    borrowerID INT NOT NULL DEFAULT '',\\n    CONSTRAINT borrowers FOREIGN KEY (borrowerID)\\n    REFERENCES borrowers(borrowerID)\\n    \\n    PRIMARY KEY (bookID)\\n    \\n)\")]"
      ]
     },
     "execution_count": 59,
     "metadata": {},
     "output_type": "execute_result"
    }
   ],
   "source": [
    "%sql SELECT * FROM sqlite_master WHERE type='table' ORDER BY name;"
   ]
  },
  {
   "cell_type": "code",
   "execution_count": 60,
   "id": "bfbbff88",
   "metadata": {},
   "outputs": [
    {
     "name": "stdout",
     "output_type": "stream",
     "text": [
      " * sqlite:///libraryDB.db\n",
      "15 rows affected.\n"
     ]
    },
    {
     "data": {
      "text/plain": [
       "[]"
      ]
     },
     "execution_count": 60,
     "metadata": {},
     "output_type": "execute_result"
    }
   ],
   "source": [
    "%%sql\n",
    "INSERT INTO books (bookID, title, publisher, releaseDate, isbn, branchID)\n",
    "VALUES (1, 'Absalom, Absalom!', 'RELX', '12/12/1980', '0-1842-3223-6', 1),\n",
    "(2, 'A time to kill', 'Thomson Reuters', '04/01/1999', '0-9160-0872-X', 1),\n",
    "(3, 'The House of Mirth', 'Penguin Random House', '06/08/2010', '0-1550-7146-7', 1),\n",
    "(4, 'East of Eden', 'Hachette Livre', '30/03/2001', '0-2476-2936-7', 2),\n",
    "(5, 'The Sun also rises', 'HarperCollins', '25/05/2015', '0-3335-1324-X', 2),\n",
    "(6, 'Vile Bodies', 'Macmillan Publishers', '02/02/1996', '0-2954-2975-5', 2),\n",
    "(7, 'A Scanner Darkly', 'Bertelsmann', '04/08/2005', '0-9556-1945-9', 3),\n",
    "(8, 'MOAB is my Washpot', 'Scholastic Corporation', '30/06/1905', '0-1126-3913-5', 4),\n",
    "(9, 'Number the Stars', 'McGraw-Hill Education', '23/07/2008', '0-5320-7144-1', 4),\n",
    "(10, 'Noli me Tangere', 'Pearson', '13/09/2020', '0-6740-9536-7', 3),\n",
    "(11, 'The Great Gatsby', 'F. Scott Fitzgerald', '1925-04-26', '978-0-306-40615-7', 1),\n",
    "(12, 'The Catcher in the Rye', 'J. D. Salinger', '1951-09-26', '978-0-553-37804-3', 1),\n",
    "(13, 'The Grapes of Wrath', 'John Steinbeck', '1939-04-26', '978-0-553-37804-3', 1),\n",
    "(14, 'The Art of War', 'A.H. & Co.', '12/12/1980', '0-1842-3223-6', 1),\n",
    "(15, 'The Book of Mormon', 'HarperCollins', '01/01/1905', '0-7356-0274-X', 4);\n",
    "\n"
   ]
  },
  {
   "cell_type": "code",
   "execution_count": 61,
   "id": "135d3ed3",
   "metadata": {},
   "outputs": [
    {
     "name": "stdout",
     "output_type": "stream",
     "text": [
      " * sqlite:///libraryDB.db\n",
      "6 rows affected.\n"
     ]
    },
    {
     "data": {
      "text/plain": [
       "[]"
      ]
     },
     "execution_count": 61,
     "metadata": {},
     "output_type": "execute_result"
    }
   ],
   "source": [
    "%%sql\n",
    "INSERT INTO branches (branchID, name, address, zipCode, city)\n",
    "VALUES (1, 'Scranton Library', 'Soleveien 24', 1540, 'Vestby'),\n",
    "(2, 'Akron Library', 'Øvre Strandgate 2', 6008, 'Ålesund'),\n",
    "(3, 'Albany Library', 'Kongens gate 1', 1020, 'Oslo'),\n",
    "(4, 'Nashua Library', 'Torsvegen 80', 5043, 'Gjøvik'),\n",
    "(5, 'Biblioteket', 'Biblioteket', 1234, 'Oslo'),\n",
    "(6, 'Biblioteca', 'Calle de la Biblioteca', 28001, 'Madrid');\n"
   ]
  },
  {
   "cell_type": "code",
   "execution_count": 62,
   "id": "e4889e00",
   "metadata": {},
   "outputs": [
    {
     "name": "stdout",
     "output_type": "stream",
     "text": [
      " * sqlite:///libraryDB.db\n",
      "4 rows affected.\n"
     ]
    },
    {
     "data": {
      "text/plain": [
       "[]"
      ]
     },
     "execution_count": 62,
     "metadata": {},
     "output_type": "execute_result"
    }
   ],
   "source": [
    "%%sql\n",
    "INSERT INTO borrowers (borrowerID, firstName, lastName, address, zipCode, city, email, phoneNumber)\n",
    "VALUES (1, 'Joakim', 'Edvardsen', 'Soleveien 24', 1540, 'Vestby', 'joakim@ntnu.no', 90159363),\n",
    "(2, 'Eduard', 'Cristea', 'Karl Johans gate 1', 1020, 'Oslo', 'eduard@ntnu.no', 94560934),\n",
    "(3, 'Torstein', 'Eide', 'Dronninsgate 87', 5043, 'Gjøvik', 'torstein@ntnu.no', 58394859),\n",
    "(4, 'Richileu', 'Bailey', 'Larsgårsvegen 2', '5894', 'Trondheim', 'richie@ntnu.no', 49586710);"
   ]
  },
  {
   "cell_type": "code",
   "execution_count": 64,
   "id": "2bd9577c",
   "metadata": {},
   "outputs": [
    {
     "name": "stdout",
     "output_type": "stream",
     "text": [
      " * sqlite:///libraryDB.db\n",
      "6 rows affected.\n"
     ]
    },
    {
     "data": {
      "text/plain": [
       "[]"
      ]
     },
     "execution_count": 64,
     "metadata": {},
     "output_type": "execute_result"
    }
   ],
   "source": [
    "%%sql\n",
    "INSERT INTO lentBooks (bookID, dueDate, borrowerID)\n",
    "VALUES (1, '02/12/2021', 1),\n",
    "(2, '12/12/2021', 1),\n",
    "(3, '03/12/2021', 2),\n",
    "(4, '10/12/2021', 4),\n",
    "(5, '07/12/2021', 3),\n",
    "(6, '01/10/2022', 2);"
   ]
  },
  {
   "cell_type": "code",
   "execution_count": 65,
   "id": "fe074bfd",
   "metadata": {},
   "outputs": [
    {
     "name": "stdout",
     "output_type": "stream",
     "text": [
      " * sqlite:///libraryDB.db\n",
      "9 rows affected.\n"
     ]
    },
    {
     "data": {
      "text/plain": [
       "[]"
      ]
     },
     "execution_count": 65,
     "metadata": {},
     "output_type": "execute_result"
    }
   ],
   "source": [
    "%%sql\n",
    "INSERT INTO author (authorID, firstName, lastName)\n",
    "VALUES (1, 'William', 'Shakespeare'),\n",
    "(2, 'J.R.R.', 'Tolkien'),\n",
    "(3, 'J.K.', 'Rowling'),\n",
    "(4, 'Robert', 'C. Martin'),\n",
    "(5, 'Leo', 'Tolstoy'),\n",
    "(6, 'Jon', 'Nesbø'),\n",
    "(7, 'Arthur', 'Conan Doyle'),\n",
    "(8, 'Emily', 'Bronte'),\n",
    "(9, 'Leonardo', 'da Vinci');"
   ]
  },
  {
   "cell_type": "code",
   "execution_count": 72,
   "id": "27a26b1c",
   "metadata": {},
   "outputs": [
    {
     "name": "stdout",
     "output_type": "stream",
     "text": [
      " * sqlite:///libraryDB.db\n",
      "14 rows affected.\n"
     ]
    },
    {
     "data": {
      "text/plain": [
       "[]"
      ]
     },
     "execution_count": 72,
     "metadata": {},
     "output_type": "execute_result"
    }
   ],
   "source": [
    "%%sql\n",
    "INSERT INTO bookAuthor (bookID, authorID)\n",
    "VALUES (1, 1),\n",
    "(2, 1),\n",
    "(3, 5),\n",
    "(3, 4),\n",
    "(4, 2),\n",
    "(5, 7),\n",
    "(6, 8),\n",
    "(7, 9),\n",
    "(8, 2),\n",
    "(9, 3),\n",
    "(10, 2),\n",
    "(11, 1),\n",
    "(12, 5),\n",
    "(13, 3);\n"
   ]
  },
  {
   "cell_type": "code",
   "execution_count": 79,
   "id": "78e4096e",
   "metadata": {},
   "outputs": [
    {
     "name": "stdout",
     "output_type": "stream",
     "text": [
      " * sqlite:///libraryDB.db\n",
      "13 rows affected.\n"
     ]
    },
    {
     "data": {
      "text/plain": [
       "[]"
      ]
     },
     "execution_count": 79,
     "metadata": {},
     "output_type": "execute_result"
    }
   ],
   "source": [
    "%%sql\n",
    "INSERT INTO bookBranches (bookID, branchID)\n",
    "VALUES (1, 1),\n",
    "(2, 1),\n",
    "(3, 1),\n",
    "(4, 2),\n",
    "(5, 2),\n",
    "(6, 2),\n",
    "(7, 3),\n",
    "(8, 4),\n",
    "(9, 4),\n",
    "(10, 3),\n",
    "(11, 4),\n",
    "(12, 4),\n",
    "(13, 4);\n",
    "\n"
   ]
  },
  {
   "cell_type": "code",
   "execution_count": null,
   "id": "258d1123",
   "metadata": {},
   "outputs": [],
   "source": []
  }
 ],
 "metadata": {
  "kernelspec": {
   "display_name": "Python 3",
   "language": "python",
   "name": "python3"
  },
  "language_info": {
   "codemirror_mode": {
    "name": "ipython",
    "version": 3
   },
   "file_extension": ".py",
   "mimetype": "text/x-python",
   "name": "python",
   "nbconvert_exporter": "python",
   "pygments_lexer": "ipython3",
   "version": "3.8.3"
  }
 },
 "nbformat": 4,
 "nbformat_minor": 5
}
