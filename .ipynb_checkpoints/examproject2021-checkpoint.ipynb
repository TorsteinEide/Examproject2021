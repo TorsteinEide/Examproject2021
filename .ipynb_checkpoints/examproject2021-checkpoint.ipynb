{
 "cells": [
  {
   "cell_type": "code",
   "execution_count": 1,
   "id": "65852064",
   "metadata": {},
   "outputs": [],
   "source": [
    "%load_ext sql"
   ]
  },
  {
   "cell_type": "code",
   "execution_count": 86,
   "id": "b687a3f9",
   "metadata": {},
   "outputs": [
    {
     "data": {
      "text/plain": [
       "'Connected: @libraryDB.db'"
      ]
     },
     "execution_count": 86,
     "metadata": {},
     "output_type": "execute_result"
    }
   ],
   "source": [
    "%sql sqlite:///libraryDB.db"
   ]
  },
  {
   "cell_type": "markdown",
   "id": "b0241cfb",
   "metadata": {},
   "source": [
    "# Create each of the tables from database design\n",
    "\n",
    "**Here the \"books\" table is created with columns: bookID, title, publisher, releaseDate, isbn and borrowerID**\n",
    "\n",
    "**The bookID column is the primary key, with borrowersID as a foreign key**"
   ]
  },
  {
   "cell_type": "code",
   "execution_count": 120,
   "id": "d7e28a9e",
   "metadata": {},
   "outputs": [
    {
     "name": "stdout",
     "output_type": "stream",
     "text": [
      "   sqlite:///empty_db.db\n",
      " * sqlite:///libraryDB.db\n",
      "Done.\n",
      "Done.\n"
     ]
    },
    {
     "data": {
      "text/html": [
       "<table>\n",
       "    <thead>\n",
       "        <tr>\n",
       "            <th>bookID</th>\n",
       "            <th>title</th>\n",
       "            <th>publisher</th>\n",
       "            <th>releaseDate</th>\n",
       "            <th>isbn</th>\n",
       "            <th>branchID</th>\n",
       "        </tr>\n",
       "    </thead>\n",
       "    <tbody>\n",
       "    </tbody>\n",
       "</table>"
      ],
      "text/plain": [
       "[]"
      ]
     },
     "execution_count": 120,
     "metadata": {},
     "output_type": "execute_result"
    }
   ],
   "source": [
    "%%sql\n",
    "CREATE TABLE books (\n",
    "    bookID INT NOT NULL UNIQUE,\n",
    "    title VARCHAR(255) NOT NULL DEFAULT '',\n",
    "    publisher VARCHAR(255) NOT NULL DEFAULT '', \n",
    "    releaseDate date NOT NULL DEFAULT '',\n",
    "    isbn INT NOT NULL DEFAULT '', \n",
    "    branchID INT NOT NULL DEFAULT '',\n",
    "    CONSTRAINT branches FOREIGN KEY (branchID)\n",
    "    REFERENCES branches(branchID)\n",
    "    PRIMARY KEY (bookID)\n",
    ");\n",
    "\n",
    "SELECT *\n",
    "FROM books"
   ]
  },
  {
   "cell_type": "markdown",
   "id": "2d929920",
   "metadata": {},
   "source": [
    "**Here the \"branches\" table is created, with branchID as primary key**"
   ]
  },
  {
   "cell_type": "code",
   "execution_count": 108,
   "id": "876c8336",
   "metadata": {},
   "outputs": [
    {
     "name": "stdout",
     "output_type": "stream",
     "text": [
      "   sqlite:///empty_db.db\n",
      " * sqlite:///libraryDB.db\n",
      "Done.\n",
      "Done.\n",
      "Done.\n"
     ]
    },
    {
     "data": {
      "text/html": [
       "<table>\n",
       "    <thead>\n",
       "        <tr>\n",
       "            <th>branchID</th>\n",
       "            <th>name</th>\n",
       "            <th>address</th>\n",
       "            <th>zipCode</th>\n",
       "            <th>city</th>\n",
       "        </tr>\n",
       "    </thead>\n",
       "    <tbody>\n",
       "    </tbody>\n",
       "</table>"
      ],
      "text/plain": [
       "[]"
      ]
     },
     "execution_count": 108,
     "metadata": {},
     "output_type": "execute_result"
    }
   ],
   "source": [
    "%%sql\n",
    "CREATE TABLE branches (\n",
    "    branchID INT NOT NULL UNIQUE,\n",
    "    name VARCHAR(255) NOT NULL DEFAULT '',\n",
    "    address VARCHAR(255) NOT NULL DEFAULT '', \n",
    "    zipCode INT NOT NULL DEFAULT '',\n",
    "    city VARCHAR(255) NOT NULL DEFAULT '',\n",
    "    PRIMARY KEY (branchID)\n",
    ");\n",
    "\n",
    "SELECT * \n",
    "FROM branches"
   ]
  },
  {
   "cell_type": "markdown",
   "id": "1aa71394",
   "metadata": {},
   "source": [
    "**Here the \"borrowers\" table is created, with borrowerID as primary key**"
   ]
  },
  {
   "cell_type": "code",
   "execution_count": 109,
   "id": "53dc0ead",
   "metadata": {},
   "outputs": [
    {
     "name": "stdout",
     "output_type": "stream",
     "text": [
      "   sqlite:///empty_db.db\n",
      " * sqlite:///libraryDB.db\n",
      "Done.\n",
      "Done.\n",
      "Done.\n"
     ]
    },
    {
     "data": {
      "text/html": [
       "<table>\n",
       "    <thead>\n",
       "        <tr>\n",
       "            <th>borrowerID</th>\n",
       "            <th>firstName</th>\n",
       "            <th>lastName</th>\n",
       "            <th>address</th>\n",
       "            <th>zipCode</th>\n",
       "            <th>city</th>\n",
       "            <th>email</th>\n",
       "            <th>phoneNumber</th>\n",
       "        </tr>\n",
       "    </thead>\n",
       "    <tbody>\n",
       "    </tbody>\n",
       "</table>"
      ],
      "text/plain": [
       "[]"
      ]
     },
     "execution_count": 109,
     "metadata": {},
     "output_type": "execute_result"
    }
   ],
   "source": [
    "%%sql\n",
    "CREATE TABLE borrowers (\n",
    "    borrowerID INT NOT NULL UNIQUE,\n",
    "    firstName VARCHAR(255) NOT NULL DEFAULT '',\n",
    "    lastName VARCHAR(255) NOT NULL DEFAULT '', \n",
    "    address VARCHAR(255) NOT NULL DEFAULT '',\n",
    "    zipCode INT NOT NULL DEFAULT '',\n",
    "    city VARCHAR(255) NOT NULL DEFAULT '', \n",
    "    email VARCHAR(255) NOT NULL DEFAULT '',\n",
    "    phoneNumber INT NOT NULL DEFAULT '',\n",
    "    PRIMARY KEY (borrowerID)\n",
    ");\n",
    "\n",
    "SELECT *\n",
    "FROM borrowers"
   ]
  },
  {
   "cell_type": "markdown",
   "id": "be556ba4",
   "metadata": {},
   "source": [
    "**Here the \"lentBooks\" table is created, with two foreign keys, \"bookID\" and \"borrowerID\", which together will act as a primary key.**"
   ]
  },
  {
   "cell_type": "code",
   "execution_count": 110,
   "id": "ccbe4b04",
   "metadata": {},
   "outputs": [
    {
     "name": "stdout",
     "output_type": "stream",
     "text": [
      "   sqlite:///empty_db.db\n",
      " * sqlite:///libraryDB.db\n",
      "Done.\n",
      "Done.\n",
      "(sqlite3.OperationalError) no such table: dueDate\n",
      "[SQL: SELECT *\n",
      "FROM dueDate]\n",
      "(Background on this error at: http://sqlalche.me/e/14/e3q8)\n"
     ]
    }
   ],
   "source": [
    "%%sql\n",
    "DROP TABLE IF EXISTS lentBooks;\n",
    "CREATE TABLE lentBooks (\n",
    "    bookID INT NOT NULL UNIQUE,\n",
    "    dueDate date NOT NULL DEFAULT '',\n",
    "    borrowerID INT NOT NULL DEFAULT '',\n",
    "    CONSTRAINT borrowers FOREIGN KEY (borrowerID)\n",
    "    REFERENCES borrowers(borrowerID)\n",
    "    \n",
    "    PRIMARY KEY (bookID)\n",
    "    \n",
    ");\n",
    "\n",
    "SELECT *\n",
    "FROM dueDate"
   ]
  },
  {
   "cell_type": "markdown",
   "id": "a47ac0b6",
   "metadata": {},
   "source": [
    "**Here the \"author\" table is created, with a primary key \"author\".**"
   ]
  },
  {
   "cell_type": "code",
   "execution_count": 111,
   "id": "9ff2446c",
   "metadata": {},
   "outputs": [
    {
     "name": "stdout",
     "output_type": "stream",
     "text": [
      "   sqlite:///empty_db.db\n",
      " * sqlite:///libraryDB.db\n",
      "Done.\n",
      "Done.\n",
      "Done.\n"
     ]
    },
    {
     "data": {
      "text/html": [
       "<table>\n",
       "    <thead>\n",
       "        <tr>\n",
       "            <th>authorID</th>\n",
       "            <th>firstName</th>\n",
       "            <th>lastName</th>\n",
       "        </tr>\n",
       "    </thead>\n",
       "    <tbody>\n",
       "    </tbody>\n",
       "</table>"
      ],
      "text/plain": [
       "[]"
      ]
     },
     "execution_count": 111,
     "metadata": {},
     "output_type": "execute_result"
    }
   ],
   "source": [
    "%%sql\n",
    "DROP TABLE IF EXISTS author;\n",
    "CREATE TABLE author (\n",
    "    authorID INT  NOT NULL UNIQUE,\n",
    "    firstName varchar(255) NOT NULL DEFAULT '',\n",
    "    lastName varchar(255) NOT NULL DEFAULT '',\n",
    "    \n",
    "    PRIMARY KEY (authorID)\n",
    ");\n",
    "\n",
    "SELECT *\n",
    "FROM author"
   ]
  },
  {
   "cell_type": "markdown",
   "id": "5aaf207d",
   "metadata": {},
   "source": [
    "**Here the \"bookAuthor\" table is created, with two foreign keys, \"authorID\" and \"bookID\"**"
   ]
  },
  {
   "cell_type": "code",
   "execution_count": 112,
   "id": "ba0307b6",
   "metadata": {},
   "outputs": [
    {
     "name": "stdout",
     "output_type": "stream",
     "text": [
      "   sqlite:///empty_db.db\n",
      " * sqlite:///libraryDB.db\n",
      "Done.\n",
      "Done.\n",
      "Done.\n"
     ]
    },
    {
     "data": {
      "text/html": [
       "<table>\n",
       "    <thead>\n",
       "        <tr>\n",
       "            <th>bookID</th>\n",
       "            <th>authorID</th>\n",
       "        </tr>\n",
       "    </thead>\n",
       "    <tbody>\n",
       "    </tbody>\n",
       "</table>"
      ],
      "text/plain": [
       "[]"
      ]
     },
     "execution_count": 112,
     "metadata": {},
     "output_type": "execute_result"
    }
   ],
   "source": [
    "%%sql\n",
    "DROP TABLE IF EXISTS bookAuthor;\n",
    "CREATE TABLE bookAuthor (\n",
    "    bookID INT NOT NULL DEFAULT '',\n",
    "    authorID INT NOT NULL DEFAULT '',\n",
    "    CONSTRAINT book FOREIGN KEY (bookID)\n",
    "    REFERENCES book (bookID)\n",
    "    CONSTRAINT author FOREIGN KEY (authorID)\n",
    "    REFERENCES author (authorID)\n",
    "    \n",
    ");\n",
    "    \n",
    "SELECT *\n",
    "FROM bookAuthor"
   ]
  },
  {
   "cell_type": "markdown",
   "id": "94216d8e",
   "metadata": {},
   "source": [
    "**Here the \"bookBranches\" table is created, with two foreign keys, \"bookID\" and \"branchID\"**"
   ]
  },
  {
   "cell_type": "code",
   "execution_count": 113,
   "id": "bf0c1c7b",
   "metadata": {},
   "outputs": [
    {
     "name": "stdout",
     "output_type": "stream",
     "text": [
      "   sqlite:///empty_db.db\n",
      " * sqlite:///libraryDB.db\n",
      "Done.\n",
      "Done.\n",
      "Done.\n"
     ]
    },
    {
     "data": {
      "text/html": [
       "<table>\n",
       "    <thead>\n",
       "        <tr>\n",
       "            <th>bookID</th>\n",
       "            <th>branchID</th>\n",
       "        </tr>\n",
       "    </thead>\n",
       "    <tbody>\n",
       "    </tbody>\n",
       "</table>"
      ],
      "text/plain": [
       "[]"
      ]
     },
     "execution_count": 113,
     "metadata": {},
     "output_type": "execute_result"
    }
   ],
   "source": [
    "%%sql\n",
    "DROP TABLE IF EXISTS bookBranches;\n",
    "CREATE TABLE bookBranches (\n",
    "    bookID INT NOT NULL UNIQUE,\n",
    "    branchID INT NOT NULL UNIQUE,\n",
    "    CONSTRAINT book FOREIGN KEY (bookID)\n",
    "    REFERENCES book (bookID)\n",
    "    CONSTRAINT branches FOREIGN KEY (branchID)\n",
    "    REFERENCES branches (branchID)\n",
    "    \n",
    ");\n",
    "    \n",
    "SELECT *\n",
    "FROM bookBranches"
   ]
  },
  {
   "cell_type": "code",
   "execution_count": 117,
   "id": "1d968e26",
   "metadata": {},
   "outputs": [
    {
     "name": "stdout",
     "output_type": "stream",
     "text": [
      "   sqlite:///empty_db.db\n",
      " * sqlite:///libraryDB.db\n",
      "Done.\n"
     ]
    },
    {
     "data": {
      "text/html": [
       "<table>\n",
       "    <thead>\n",
       "        <tr>\n",
       "            <th>type</th>\n",
       "            <th>name</th>\n",
       "            <th>tbl_name</th>\n",
       "            <th>rootpage</th>\n",
       "            <th>sql</th>\n",
       "        </tr>\n",
       "    </thead>\n",
       "    <tbody>\n",
       "        <tr>\n",
       "            <td>table</td>\n",
       "            <td>author</td>\n",
       "            <td>author</td>\n",
       "            <td>11</td>\n",
       "            <td>CREATE TABLE author (<br>    authorID INT  NOT NULL UNIQUE,<br>    firstName varchar(255) NOT NULL DEFAULT &#x27;&#x27;,<br>    lastName varchar(255) NOT NULL DEFAULT &#x27;&#x27;,<br>    <br>    PRIMARY KEY (authorID)<br>)</td>\n",
       "        </tr>\n",
       "        <tr>\n",
       "            <td>table</td>\n",
       "            <td>bookAuthor</td>\n",
       "            <td>bookAuthor</td>\n",
       "            <td>13</td>\n",
       "            <td>CREATE TABLE bookAuthor (<br>    bookID INT NOT NULL UNIQUE,<br>    authorID INT NOT NULL UNIQUE,<br>    CONSTRAINT book FOREIGN KEY (bookID)<br>    REFERENCES book (bookID)<br>    CONSTRAINT author FOREIGN KEY (authorID)<br>    REFERENCES author (authorID)<br>    <br>)</td>\n",
       "        </tr>\n",
       "        <tr>\n",
       "            <td>table</td>\n",
       "            <td>books</td>\n",
       "            <td>books</td>\n",
       "            <td>2</td>\n",
       "            <td>CREATE TABLE books (<br>    bookID INT NOT NULL UNIQUE,<br>    title VARCHAR(255) NOT NULL DEFAULT &#x27;&#x27;,<br>    publisher VARCHAR(255) NOT NULL DEFAULT &#x27;&#x27;, <br>    releaseDate date NOT NULL DEFAULT &#x27;&#x27;,<br>    isbn INT NOT NULL DEFAULT &#x27;&#x27;, <br>    branchID VARCHAR(255) NOT NULL DEFAULT &#x27;&#x27;,<br>    CONSTRAINT branches FOREIGN KEY (branchID)<br>    REFERENCES branches(branchID)<br>    PRIMARY KEY (bookID)<br>)</td>\n",
       "        </tr>\n",
       "        <tr>\n",
       "            <td>table</td>\n",
       "            <td>borrowers</td>\n",
       "            <td>borrowers</td>\n",
       "            <td>7</td>\n",
       "            <td>CREATE TABLE borrowers (<br>    borrowerID INT NOT NULL UNIQUE,<br>    firstName VARCHAR(255) NOT NULL DEFAULT &#x27;&#x27;,<br>    lastName VARCHAR(255) NOT NULL DEFAULT &#x27;&#x27;, <br>    address VARCHAR(255) NOT NULL DEFAULT &#x27;&#x27;,<br>    zipCode INT NOT NULL DEFAULT &#x27;&#x27;,<br>    city VARCHAR(255) NOT NULL DEFAULT &#x27;&#x27;, <br>    email VARCHAR(255) NOT NULL DEFAULT &#x27;&#x27;,<br>    phoneNumber INT NOT NULL DEFAULT &#x27;&#x27;,<br>    PRIMARY KEY (borrowerID)<br>)</td>\n",
       "        </tr>\n",
       "        <tr>\n",
       "            <td>table</td>\n",
       "            <td>branches</td>\n",
       "            <td>branches</td>\n",
       "            <td>5</td>\n",
       "            <td>CREATE TABLE branches (<br>    branchID INT NOT NULL UNIQUE,<br>    name VARCHAR(255) NOT NULL DEFAULT &#x27;&#x27;,<br>    address VARCHAR(255) NOT NULL DEFAULT &#x27;&#x27;, <br>    zipCode INT NOT NULL DEFAULT &#x27;&#x27;,<br>    city VARCHAR(255) NOT NULL DEFAULT &#x27;&#x27;,<br>    PRIMARY KEY (branchID)<br>)</td>\n",
       "        </tr>\n",
       "        <tr>\n",
       "            <td>table</td>\n",
       "            <td>lentBooks</td>\n",
       "            <td>lentBooks</td>\n",
       "            <td>9</td>\n",
       "            <td>CREATE TABLE lentBooks (<br>    bookID INT NOT NULL UNIQUE,<br>    dueDate date NOT NULL DEFAULT &#x27;&#x27;,<br>    borrowerID INT NOT NULL DEFAULT &#x27;&#x27;,<br>    CONSTRAINT borrowers FOREIGN KEY (borrowerID)<br>    REFERENCES borrowers(borrowerID)<br>    <br>    PRIMARY KEY (bookID)<br>    <br>)</td>\n",
       "        </tr>\n",
       "    </tbody>\n",
       "</table>"
      ],
      "text/plain": [
       "[('table', 'author', 'author', 11, \"CREATE TABLE author (\\n    authorID INT  NOT NULL UNIQUE,\\n    firstName varchar(255) NOT NULL DEFAULT '',\\n    lastName varchar(255) NOT NULL DEFAULT '',\\n    \\n    PRIMARY KEY (authorID)\\n)\"),\n",
       " ('table', 'bookAuthor', 'bookAuthor', 13, 'CREATE TABLE bookAuthor (\\n    bookID INT NOT NULL UNIQUE,\\n    authorID INT NOT NULL UNIQUE,\\n    CONSTRAINT book FOREIGN KEY (bookID)\\n    REFERENCES book (bookID)\\n    CONSTRAINT author FOREIGN KEY (authorID)\\n    REFERENCES author (authorID)\\n    \\n)'),\n",
       " ('table', 'books', 'books', 2, \"CREATE TABLE books (\\n    bookID INT NOT NULL UNIQUE,\\n    title VARCHAR(255) NOT NULL DEFAULT '',\\n    publisher VARCHAR(255) NOT NULL DEFAULT '', \\ ... (89 characters truncated) ... hID VARCHAR(255) NOT NULL DEFAULT '',\\n    CONSTRAINT branches FOREIGN KEY (branchID)\\n    REFERENCES branches(branchID)\\n    PRIMARY KEY (bookID)\\n)\"),\n",
       " ('table', 'borrowers', 'borrowers', 7, \"CREATE TABLE borrowers (\\n    borrowerID INT NOT NULL UNIQUE,\\n    firstName VARCHAR(255) NOT NULL DEFAULT '',\\n    lastName VARCHAR(255) NOT NULL DE ... (111 characters truncated) ... AR(255) NOT NULL DEFAULT '', \\n    email VARCHAR(255) NOT NULL DEFAULT '',\\n    phoneNumber INT NOT NULL DEFAULT '',\\n    PRIMARY KEY (borrowerID)\\n)\"),\n",
       " ('table', 'branches', 'branches', 5, \"CREATE TABLE branches (\\n    branchID INT NOT NULL UNIQUE,\\n    name VARCHAR(255) NOT NULL DEFAULT '',\\n    address VARCHAR(255) NOT NULL DEFAULT '', \\n    zipCode INT NOT NULL DEFAULT '',\\n    city VARCHAR(255) NOT NULL DEFAULT '',\\n    PRIMARY KEY (branchID)\\n)\"),\n",
       " ('table', 'lentBooks', 'lentBooks', 9, \"CREATE TABLE lentBooks (\\n    bookID INT NOT NULL UNIQUE,\\n    dueDate date NOT NULL DEFAULT '',\\n    borrowerID INT NOT NULL DEFAULT '',\\n    CONSTRAINT borrowers FOREIGN KEY (borrowerID)\\n    REFERENCES borrowers(borrowerID)\\n    \\n    PRIMARY KEY (bookID)\\n    \\n)\")]"
      ]
     },
     "execution_count": 117,
     "metadata": {},
     "output_type": "execute_result"
    }
   ],
   "source": [
    "%sql SELECT * FROM sqlite_master WHERE type='table' ORDER BY name;"
   ]
  },
  {
   "cell_type": "code",
   "execution_count": 116,
   "id": "8edb71cb",
   "metadata": {},
   "outputs": [
    {
     "name": "stdout",
     "output_type": "stream",
     "text": [
      "   sqlite:///empty_db.db\n",
      " * sqlite:///libraryDB.db\n",
      "Done.\n"
     ]
    },
    {
     "ename": "ResourceClosedError",
     "evalue": "This result object does not return rows. It has been closed automatically.",
     "output_type": "error",
     "traceback": [
      "\u001b[0;31m---------------------------------------------------------------------------\u001b[0m",
      "\u001b[0;31mResourceClosedError\u001b[0m                       Traceback (most recent call last)",
      "\u001b[0;32m<ipython-input-116-6ed3e962f581>\u001b[0m in \u001b[0;36m<module>\u001b[0;34m\u001b[0m\n\u001b[0;32m----> 1\u001b[0;31m \u001b[0mget_ipython\u001b[0m\u001b[0;34m(\u001b[0m\u001b[0;34m)\u001b[0m\u001b[0;34m.\u001b[0m\u001b[0mrun_line_magic\u001b[0m\u001b[0;34m(\u001b[0m\u001b[0;34m'sql'\u001b[0m\u001b[0;34m,\u001b[0m \u001b[0;34m'DROP TABLE IF EXISTS bookbranches;'\u001b[0m\u001b[0;34m)\u001b[0m\u001b[0;34m\u001b[0m\u001b[0;34m\u001b[0m\u001b[0m\n\u001b[0m",
      "\u001b[0;32m~/opt/anaconda3/lib/python3.8/site-packages/IPython/core/interactiveshell.py\u001b[0m in \u001b[0;36mrun_line_magic\u001b[0;34m(self, magic_name, line, _stack_depth)\u001b[0m\n\u001b[1;32m   2342\u001b[0m                 \u001b[0mkwargs\u001b[0m\u001b[0;34m[\u001b[0m\u001b[0;34m'local_ns'\u001b[0m\u001b[0;34m]\u001b[0m \u001b[0;34m=\u001b[0m \u001b[0mself\u001b[0m\u001b[0;34m.\u001b[0m\u001b[0mget_local_scope\u001b[0m\u001b[0;34m(\u001b[0m\u001b[0mstack_depth\u001b[0m\u001b[0;34m)\u001b[0m\u001b[0;34m\u001b[0m\u001b[0;34m\u001b[0m\u001b[0m\n\u001b[1;32m   2343\u001b[0m             \u001b[0;32mwith\u001b[0m \u001b[0mself\u001b[0m\u001b[0;34m.\u001b[0m\u001b[0mbuiltin_trap\u001b[0m\u001b[0;34m:\u001b[0m\u001b[0;34m\u001b[0m\u001b[0;34m\u001b[0m\u001b[0m\n\u001b[0;32m-> 2344\u001b[0;31m                 \u001b[0mresult\u001b[0m \u001b[0;34m=\u001b[0m \u001b[0mfn\u001b[0m\u001b[0;34m(\u001b[0m\u001b[0;34m*\u001b[0m\u001b[0margs\u001b[0m\u001b[0;34m,\u001b[0m \u001b[0;34m**\u001b[0m\u001b[0mkwargs\u001b[0m\u001b[0;34m)\u001b[0m\u001b[0;34m\u001b[0m\u001b[0;34m\u001b[0m\u001b[0m\n\u001b[0m\u001b[1;32m   2345\u001b[0m             \u001b[0;32mreturn\u001b[0m \u001b[0mresult\u001b[0m\u001b[0;34m\u001b[0m\u001b[0;34m\u001b[0m\u001b[0m\n\u001b[1;32m   2346\u001b[0m \u001b[0;34m\u001b[0m\u001b[0m\n",
      "\u001b[0;32m~/opt/anaconda3/lib/python3.8/site-packages/decorator.py\u001b[0m in \u001b[0;36mfun\u001b[0;34m(*args, **kw)\u001b[0m\n\u001b[1;32m    229\u001b[0m             \u001b[0;32mif\u001b[0m \u001b[0;32mnot\u001b[0m \u001b[0mkwsyntax\u001b[0m\u001b[0;34m:\u001b[0m\u001b[0;34m\u001b[0m\u001b[0;34m\u001b[0m\u001b[0m\n\u001b[1;32m    230\u001b[0m                 \u001b[0margs\u001b[0m\u001b[0;34m,\u001b[0m \u001b[0mkw\u001b[0m \u001b[0;34m=\u001b[0m \u001b[0mfix\u001b[0m\u001b[0;34m(\u001b[0m\u001b[0margs\u001b[0m\u001b[0;34m,\u001b[0m \u001b[0mkw\u001b[0m\u001b[0;34m,\u001b[0m \u001b[0msig\u001b[0m\u001b[0;34m)\u001b[0m\u001b[0;34m\u001b[0m\u001b[0;34m\u001b[0m\u001b[0m\n\u001b[0;32m--> 231\u001b[0;31m             \u001b[0;32mreturn\u001b[0m \u001b[0mcaller\u001b[0m\u001b[0;34m(\u001b[0m\u001b[0mfunc\u001b[0m\u001b[0;34m,\u001b[0m \u001b[0;34m*\u001b[0m\u001b[0;34m(\u001b[0m\u001b[0mextras\u001b[0m \u001b[0;34m+\u001b[0m \u001b[0margs\u001b[0m\u001b[0;34m)\u001b[0m\u001b[0;34m,\u001b[0m \u001b[0;34m**\u001b[0m\u001b[0mkw\u001b[0m\u001b[0;34m)\u001b[0m\u001b[0;34m\u001b[0m\u001b[0;34m\u001b[0m\u001b[0m\n\u001b[0m\u001b[1;32m    232\u001b[0m     \u001b[0mfun\u001b[0m\u001b[0;34m.\u001b[0m\u001b[0m__name__\u001b[0m \u001b[0;34m=\u001b[0m \u001b[0mfunc\u001b[0m\u001b[0;34m.\u001b[0m\u001b[0m__name__\u001b[0m\u001b[0;34m\u001b[0m\u001b[0;34m\u001b[0m\u001b[0m\n\u001b[1;32m    233\u001b[0m     \u001b[0mfun\u001b[0m\u001b[0;34m.\u001b[0m\u001b[0m__doc__\u001b[0m \u001b[0;34m=\u001b[0m \u001b[0mfunc\u001b[0m\u001b[0;34m.\u001b[0m\u001b[0m__doc__\u001b[0m\u001b[0;34m\u001b[0m\u001b[0;34m\u001b[0m\u001b[0m\n",
      "\u001b[0;32m~/opt/anaconda3/lib/python3.8/site-packages/IPython/core/magic.py\u001b[0m in \u001b[0;36m<lambda>\u001b[0;34m(f, *a, **k)\u001b[0m\n\u001b[1;32m    185\u001b[0m     \u001b[0;31m# but it's overkill for just that one bit of state.\u001b[0m\u001b[0;34m\u001b[0m\u001b[0;34m\u001b[0m\u001b[0;34m\u001b[0m\u001b[0m\n\u001b[1;32m    186\u001b[0m     \u001b[0;32mdef\u001b[0m \u001b[0mmagic_deco\u001b[0m\u001b[0;34m(\u001b[0m\u001b[0marg\u001b[0m\u001b[0;34m)\u001b[0m\u001b[0;34m:\u001b[0m\u001b[0;34m\u001b[0m\u001b[0;34m\u001b[0m\u001b[0m\n\u001b[0;32m--> 187\u001b[0;31m         \u001b[0mcall\u001b[0m \u001b[0;34m=\u001b[0m \u001b[0;32mlambda\u001b[0m \u001b[0mf\u001b[0m\u001b[0;34m,\u001b[0m \u001b[0;34m*\u001b[0m\u001b[0ma\u001b[0m\u001b[0;34m,\u001b[0m \u001b[0;34m**\u001b[0m\u001b[0mk\u001b[0m\u001b[0;34m:\u001b[0m \u001b[0mf\u001b[0m\u001b[0;34m(\u001b[0m\u001b[0;34m*\u001b[0m\u001b[0ma\u001b[0m\u001b[0;34m,\u001b[0m \u001b[0;34m**\u001b[0m\u001b[0mk\u001b[0m\u001b[0;34m)\u001b[0m\u001b[0;34m\u001b[0m\u001b[0;34m\u001b[0m\u001b[0m\n\u001b[0m\u001b[1;32m    188\u001b[0m \u001b[0;34m\u001b[0m\u001b[0m\n\u001b[1;32m    189\u001b[0m         \u001b[0;32mif\u001b[0m \u001b[0mcallable\u001b[0m\u001b[0;34m(\u001b[0m\u001b[0marg\u001b[0m\u001b[0;34m)\u001b[0m\u001b[0;34m:\u001b[0m\u001b[0;34m\u001b[0m\u001b[0;34m\u001b[0m\u001b[0m\n",
      "\u001b[0;32m~/opt/anaconda3/lib/python3.8/site-packages/decorator.py\u001b[0m in \u001b[0;36mfun\u001b[0;34m(*args, **kw)\u001b[0m\n\u001b[1;32m    229\u001b[0m             \u001b[0;32mif\u001b[0m \u001b[0;32mnot\u001b[0m \u001b[0mkwsyntax\u001b[0m\u001b[0;34m:\u001b[0m\u001b[0;34m\u001b[0m\u001b[0;34m\u001b[0m\u001b[0m\n\u001b[1;32m    230\u001b[0m                 \u001b[0margs\u001b[0m\u001b[0;34m,\u001b[0m \u001b[0mkw\u001b[0m \u001b[0;34m=\u001b[0m \u001b[0mfix\u001b[0m\u001b[0;34m(\u001b[0m\u001b[0margs\u001b[0m\u001b[0;34m,\u001b[0m \u001b[0mkw\u001b[0m\u001b[0;34m,\u001b[0m \u001b[0msig\u001b[0m\u001b[0;34m)\u001b[0m\u001b[0;34m\u001b[0m\u001b[0;34m\u001b[0m\u001b[0m\n\u001b[0;32m--> 231\u001b[0;31m             \u001b[0;32mreturn\u001b[0m \u001b[0mcaller\u001b[0m\u001b[0;34m(\u001b[0m\u001b[0mfunc\u001b[0m\u001b[0;34m,\u001b[0m \u001b[0;34m*\u001b[0m\u001b[0;34m(\u001b[0m\u001b[0mextras\u001b[0m \u001b[0;34m+\u001b[0m \u001b[0margs\u001b[0m\u001b[0;34m)\u001b[0m\u001b[0;34m,\u001b[0m \u001b[0;34m**\u001b[0m\u001b[0mkw\u001b[0m\u001b[0;34m)\u001b[0m\u001b[0;34m\u001b[0m\u001b[0;34m\u001b[0m\u001b[0m\n\u001b[0m\u001b[1;32m    232\u001b[0m     \u001b[0mfun\u001b[0m\u001b[0;34m.\u001b[0m\u001b[0m__name__\u001b[0m \u001b[0;34m=\u001b[0m \u001b[0mfunc\u001b[0m\u001b[0;34m.\u001b[0m\u001b[0m__name__\u001b[0m\u001b[0;34m\u001b[0m\u001b[0;34m\u001b[0m\u001b[0m\n\u001b[1;32m    233\u001b[0m     \u001b[0mfun\u001b[0m\u001b[0;34m.\u001b[0m\u001b[0m__doc__\u001b[0m \u001b[0;34m=\u001b[0m \u001b[0mfunc\u001b[0m\u001b[0;34m.\u001b[0m\u001b[0m__doc__\u001b[0m\u001b[0;34m\u001b[0m\u001b[0;34m\u001b[0m\u001b[0m\n",
      "\u001b[0;32m~/opt/anaconda3/lib/python3.8/site-packages/IPython/core/magic.py\u001b[0m in \u001b[0;36m<lambda>\u001b[0;34m(f, *a, **k)\u001b[0m\n\u001b[1;32m    185\u001b[0m     \u001b[0;31m# but it's overkill for just that one bit of state.\u001b[0m\u001b[0;34m\u001b[0m\u001b[0;34m\u001b[0m\u001b[0;34m\u001b[0m\u001b[0m\n\u001b[1;32m    186\u001b[0m     \u001b[0;32mdef\u001b[0m \u001b[0mmagic_deco\u001b[0m\u001b[0;34m(\u001b[0m\u001b[0marg\u001b[0m\u001b[0;34m)\u001b[0m\u001b[0;34m:\u001b[0m\u001b[0;34m\u001b[0m\u001b[0;34m\u001b[0m\u001b[0m\n\u001b[0;32m--> 187\u001b[0;31m         \u001b[0mcall\u001b[0m \u001b[0;34m=\u001b[0m \u001b[0;32mlambda\u001b[0m \u001b[0mf\u001b[0m\u001b[0;34m,\u001b[0m \u001b[0;34m*\u001b[0m\u001b[0ma\u001b[0m\u001b[0;34m,\u001b[0m \u001b[0;34m**\u001b[0m\u001b[0mk\u001b[0m\u001b[0;34m:\u001b[0m \u001b[0mf\u001b[0m\u001b[0;34m(\u001b[0m\u001b[0;34m*\u001b[0m\u001b[0ma\u001b[0m\u001b[0;34m,\u001b[0m \u001b[0;34m**\u001b[0m\u001b[0mk\u001b[0m\u001b[0;34m)\u001b[0m\u001b[0;34m\u001b[0m\u001b[0;34m\u001b[0m\u001b[0m\n\u001b[0m\u001b[1;32m    188\u001b[0m \u001b[0;34m\u001b[0m\u001b[0m\n\u001b[1;32m    189\u001b[0m         \u001b[0;32mif\u001b[0m \u001b[0mcallable\u001b[0m\u001b[0;34m(\u001b[0m\u001b[0marg\u001b[0m\u001b[0;34m)\u001b[0m\u001b[0;34m:\u001b[0m\u001b[0;34m\u001b[0m\u001b[0;34m\u001b[0m\u001b[0m\n",
      "\u001b[0;32m~/opt/anaconda3/lib/python3.8/site-packages/sql/magic.py\u001b[0m in \u001b[0;36mexecute\u001b[0;34m(self, line, cell, local_ns)\u001b[0m\n\u001b[1;32m     93\u001b[0m \u001b[0;34m\u001b[0m\u001b[0m\n\u001b[1;32m     94\u001b[0m         \u001b[0;32mtry\u001b[0m\u001b[0;34m:\u001b[0m\u001b[0;34m\u001b[0m\u001b[0;34m\u001b[0m\u001b[0m\n\u001b[0;32m---> 95\u001b[0;31m             \u001b[0mresult\u001b[0m \u001b[0;34m=\u001b[0m \u001b[0msql\u001b[0m\u001b[0;34m.\u001b[0m\u001b[0mrun\u001b[0m\u001b[0;34m.\u001b[0m\u001b[0mrun\u001b[0m\u001b[0;34m(\u001b[0m\u001b[0mconn\u001b[0m\u001b[0;34m,\u001b[0m \u001b[0mparsed\u001b[0m\u001b[0;34m[\u001b[0m\u001b[0;34m'sql'\u001b[0m\u001b[0;34m]\u001b[0m\u001b[0;34m,\u001b[0m \u001b[0mself\u001b[0m\u001b[0;34m,\u001b[0m \u001b[0muser_ns\u001b[0m\u001b[0;34m)\u001b[0m\u001b[0;34m\u001b[0m\u001b[0;34m\u001b[0m\u001b[0m\n\u001b[0m\u001b[1;32m     96\u001b[0m \u001b[0;34m\u001b[0m\u001b[0m\n\u001b[1;32m     97\u001b[0m             \u001b[0;32mif\u001b[0m \u001b[0mresult\u001b[0m \u001b[0;32mis\u001b[0m \u001b[0;32mnot\u001b[0m \u001b[0;32mNone\u001b[0m \u001b[0;32mand\u001b[0m \u001b[0;32mnot\u001b[0m \u001b[0misinstance\u001b[0m\u001b[0;34m(\u001b[0m\u001b[0mresult\u001b[0m\u001b[0;34m,\u001b[0m \u001b[0mstr\u001b[0m\u001b[0;34m)\u001b[0m \u001b[0;32mand\u001b[0m \u001b[0mself\u001b[0m\u001b[0;34m.\u001b[0m\u001b[0mcolumn_local_vars\u001b[0m\u001b[0;34m:\u001b[0m\u001b[0;34m\u001b[0m\u001b[0;34m\u001b[0m\u001b[0m\n",
      "\u001b[0;32m~/opt/anaconda3/lib/python3.8/site-packages/sql/run.py\u001b[0m in \u001b[0;36mrun\u001b[0;34m(conn, sql, config, user_namespace)\u001b[0m\n\u001b[1;32m    342\u001b[0m             \u001b[0;32mif\u001b[0m \u001b[0mresult\u001b[0m \u001b[0;32mand\u001b[0m \u001b[0mconfig\u001b[0m\u001b[0;34m.\u001b[0m\u001b[0mfeedback\u001b[0m\u001b[0;34m:\u001b[0m\u001b[0;34m\u001b[0m\u001b[0;34m\u001b[0m\u001b[0m\n\u001b[1;32m    343\u001b[0m                 \u001b[0mprint\u001b[0m\u001b[0;34m(\u001b[0m\u001b[0minterpret_rowcount\u001b[0m\u001b[0;34m(\u001b[0m\u001b[0mresult\u001b[0m\u001b[0;34m.\u001b[0m\u001b[0mrowcount\u001b[0m\u001b[0;34m)\u001b[0m\u001b[0;34m)\u001b[0m\u001b[0;34m\u001b[0m\u001b[0;34m\u001b[0m\u001b[0m\n\u001b[0;32m--> 344\u001b[0;31m         \u001b[0mresultset\u001b[0m \u001b[0;34m=\u001b[0m \u001b[0mResultSet\u001b[0m\u001b[0;34m(\u001b[0m\u001b[0mresult\u001b[0m\u001b[0;34m,\u001b[0m \u001b[0mstatement\u001b[0m\u001b[0;34m,\u001b[0m \u001b[0mconfig\u001b[0m\u001b[0;34m)\u001b[0m\u001b[0;34m\u001b[0m\u001b[0;34m\u001b[0m\u001b[0m\n\u001b[0m\u001b[1;32m    345\u001b[0m         \u001b[0;32mif\u001b[0m \u001b[0mconfig\u001b[0m\u001b[0;34m.\u001b[0m\u001b[0mautopandas\u001b[0m\u001b[0;34m:\u001b[0m\u001b[0;34m\u001b[0m\u001b[0;34m\u001b[0m\u001b[0m\n\u001b[1;32m    346\u001b[0m             \u001b[0;32mreturn\u001b[0m \u001b[0mresultset\u001b[0m\u001b[0;34m.\u001b[0m\u001b[0mDataFrame\u001b[0m\u001b[0;34m(\u001b[0m\u001b[0;34m)\u001b[0m\u001b[0;34m\u001b[0m\u001b[0;34m\u001b[0m\u001b[0m\n",
      "\u001b[0;32m~/opt/anaconda3/lib/python3.8/site-packages/sql/run.py\u001b[0m in \u001b[0;36m__init__\u001b[0;34m(self, sqlaproxy, sql, config)\u001b[0m\n\u001b[1;32m    105\u001b[0m \u001b[0;34m\u001b[0m\u001b[0m\n\u001b[1;32m    106\u001b[0m     \u001b[0;32mdef\u001b[0m \u001b[0m__init__\u001b[0m\u001b[0;34m(\u001b[0m\u001b[0mself\u001b[0m\u001b[0;34m,\u001b[0m \u001b[0msqlaproxy\u001b[0m\u001b[0;34m,\u001b[0m \u001b[0msql\u001b[0m\u001b[0;34m,\u001b[0m \u001b[0mconfig\u001b[0m\u001b[0;34m)\u001b[0m\u001b[0;34m:\u001b[0m\u001b[0;34m\u001b[0m\u001b[0;34m\u001b[0m\u001b[0m\n\u001b[0;32m--> 107\u001b[0;31m         \u001b[0mself\u001b[0m\u001b[0;34m.\u001b[0m\u001b[0mkeys\u001b[0m \u001b[0;34m=\u001b[0m \u001b[0msqlaproxy\u001b[0m\u001b[0;34m.\u001b[0m\u001b[0mkeys\u001b[0m\u001b[0;34m(\u001b[0m\u001b[0;34m)\u001b[0m\u001b[0;34m\u001b[0m\u001b[0;34m\u001b[0m\u001b[0m\n\u001b[0m\u001b[1;32m    108\u001b[0m         \u001b[0mself\u001b[0m\u001b[0;34m.\u001b[0m\u001b[0msql\u001b[0m \u001b[0;34m=\u001b[0m \u001b[0msql\u001b[0m\u001b[0;34m\u001b[0m\u001b[0;34m\u001b[0m\u001b[0m\n\u001b[1;32m    109\u001b[0m         \u001b[0mself\u001b[0m\u001b[0;34m.\u001b[0m\u001b[0mconfig\u001b[0m \u001b[0;34m=\u001b[0m \u001b[0mconfig\u001b[0m\u001b[0;34m\u001b[0m\u001b[0;34m\u001b[0m\u001b[0m\n",
      "\u001b[0;32m~/opt/anaconda3/lib/python3.8/site-packages/sqlalchemy/engine/result.py\u001b[0m in \u001b[0;36mkeys\u001b[0;34m(self)\u001b[0m\n\u001b[1;32m    705\u001b[0m \u001b[0;34m\u001b[0m\u001b[0m\n\u001b[1;32m    706\u001b[0m         \"\"\"\n\u001b[0;32m--> 707\u001b[0;31m         \u001b[0;32mreturn\u001b[0m \u001b[0mself\u001b[0m\u001b[0;34m.\u001b[0m\u001b[0m_metadata\u001b[0m\u001b[0;34m.\u001b[0m\u001b[0mkeys\u001b[0m\u001b[0;34m\u001b[0m\u001b[0;34m\u001b[0m\u001b[0m\n\u001b[0m\u001b[1;32m    708\u001b[0m \u001b[0;34m\u001b[0m\u001b[0m\n\u001b[1;32m    709\u001b[0m \u001b[0;34m\u001b[0m\u001b[0m\n",
      "\u001b[0;32m~/opt/anaconda3/lib/python3.8/site-packages/sqlalchemy/engine/cursor.py\u001b[0m in \u001b[0;36mkeys\u001b[0;34m(self)\u001b[0m\n\u001b[1;32m   1199\u001b[0m     \u001b[0;34m@\u001b[0m\u001b[0mproperty\u001b[0m\u001b[0;34m\u001b[0m\u001b[0;34m\u001b[0m\u001b[0m\n\u001b[1;32m   1200\u001b[0m     \u001b[0;32mdef\u001b[0m \u001b[0mkeys\u001b[0m\u001b[0;34m(\u001b[0m\u001b[0mself\u001b[0m\u001b[0;34m)\u001b[0m\u001b[0;34m:\u001b[0m\u001b[0;34m\u001b[0m\u001b[0;34m\u001b[0m\u001b[0m\n\u001b[0;32m-> 1201\u001b[0;31m         \u001b[0mself\u001b[0m\u001b[0;34m.\u001b[0m\u001b[0m_we_dont_return_rows\u001b[0m\u001b[0;34m(\u001b[0m\u001b[0;34m)\u001b[0m\u001b[0;34m\u001b[0m\u001b[0;34m\u001b[0m\u001b[0m\n\u001b[0m\u001b[1;32m   1202\u001b[0m \u001b[0;34m\u001b[0m\u001b[0m\n\u001b[1;32m   1203\u001b[0m \u001b[0;34m\u001b[0m\u001b[0m\n",
      "\u001b[0;32m~/opt/anaconda3/lib/python3.8/site-packages/sqlalchemy/engine/cursor.py\u001b[0m in \u001b[0;36m_we_dont_return_rows\u001b[0;34m(self, err)\u001b[0m\n\u001b[1;32m   1176\u001b[0m \u001b[0;34m\u001b[0m\u001b[0m\n\u001b[1;32m   1177\u001b[0m     \u001b[0;32mdef\u001b[0m \u001b[0m_we_dont_return_rows\u001b[0m\u001b[0;34m(\u001b[0m\u001b[0mself\u001b[0m\u001b[0;34m,\u001b[0m \u001b[0merr\u001b[0m\u001b[0;34m=\u001b[0m\u001b[0;32mNone\u001b[0m\u001b[0;34m)\u001b[0m\u001b[0;34m:\u001b[0m\u001b[0;34m\u001b[0m\u001b[0;34m\u001b[0m\u001b[0m\n\u001b[0;32m-> 1178\u001b[0;31m         util.raise_(\n\u001b[0m\u001b[1;32m   1179\u001b[0m             exc.ResourceClosedError(\n\u001b[1;32m   1180\u001b[0m                 \u001b[0;34m\"This result object does not return rows. \"\u001b[0m\u001b[0;34m\u001b[0m\u001b[0;34m\u001b[0m\u001b[0m\n",
      "\u001b[0;32m~/opt/anaconda3/lib/python3.8/site-packages/sqlalchemy/util/compat.py\u001b[0m in \u001b[0;36mraise_\u001b[0;34m(***failed resolving arguments***)\u001b[0m\n\u001b[1;32m    209\u001b[0m \u001b[0;34m\u001b[0m\u001b[0m\n\u001b[1;32m    210\u001b[0m         \u001b[0;32mtry\u001b[0m\u001b[0;34m:\u001b[0m\u001b[0;34m\u001b[0m\u001b[0;34m\u001b[0m\u001b[0m\n\u001b[0;32m--> 211\u001b[0;31m             \u001b[0;32mraise\u001b[0m \u001b[0mexception\u001b[0m\u001b[0;34m\u001b[0m\u001b[0;34m\u001b[0m\u001b[0m\n\u001b[0m\u001b[1;32m    212\u001b[0m         \u001b[0;32mfinally\u001b[0m\u001b[0;34m:\u001b[0m\u001b[0;34m\u001b[0m\u001b[0;34m\u001b[0m\u001b[0m\n\u001b[1;32m    213\u001b[0m             \u001b[0;31m# credit to\u001b[0m\u001b[0;34m\u001b[0m\u001b[0;34m\u001b[0m\u001b[0;34m\u001b[0m\u001b[0m\n",
      "\u001b[0;31mResourceClosedError\u001b[0m: This result object does not return rows. It has been closed automatically."
     ]
    }
   ],
   "source": []
  },
  {
   "cell_type": "code",
   "execution_count": null,
   "id": "e92fa578",
   "metadata": {},
   "outputs": [],
   "source": []
  }
 ],
 "metadata": {
  "kernelspec": {
   "display_name": "Python 3",
   "language": "python",
   "name": "python3"
  },
  "language_info": {
   "codemirror_mode": {
    "name": "ipython",
    "version": 3
   },
   "file_extension": ".py",
   "mimetype": "text/x-python",
   "name": "python",
   "nbconvert_exporter": "python",
   "pygments_lexer": "ipython3",
   "version": "3.8.8"
  }
 },
 "nbformat": 4,
 "nbformat_minor": 5
}
