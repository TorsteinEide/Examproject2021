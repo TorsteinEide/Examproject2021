{
 "cells": [
  {
   "cell_type": "code",
   "execution_count": 1,
   "id": "67669bcd",
   "metadata": {},
   "outputs": [],
   "source": [
    "%load_ext sql"
   ]
  },
  {
   "cell_type": "code",
   "execution_count": 58,
   "id": "ce97493b",
   "metadata": {},
   "outputs": [
    {
     "data": {
      "text/plain": [
       "'Connected: @empty_db.db'"
      ]
     },
     "execution_count": 58,
     "metadata": {},
     "output_type": "execute_result"
    }
   ],
   "source": [
    "%sql sqlite:///empty_db.db"
   ]
  },
  {
   "cell_type": "markdown",
   "id": "f6e49162",
   "metadata": {},
   "source": [
    "Create "
   ]
  },
  {
   "cell_type": "code",
   "execution_count": 66,
   "id": "3664dd28",
   "metadata": {},
   "outputs": [
    {
     "name": "stdout",
     "output_type": "stream",
     "text": [
      " * sqlite:///empty_db.db\n",
      "Done.\n",
      "Done.\n",
      "Done.\n"
     ]
    },
    {
     "data": {
      "text/html": [
       "<table>\n",
       "    <thead>\n",
       "        <tr>\n",
       "            <th>bookID</th>\n",
       "            <th>title</th>\n",
       "            <th>publisher</th>\n",
       "            <th>releaseDate</th>\n",
       "            <th>isbn</th>\n",
       "            <th>borrowerID</th>\n",
       "        </tr>\n",
       "    </thead>\n",
       "    <tbody>\n",
       "    </tbody>\n",
       "</table>"
      ],
      "text/plain": [
       "[]"
      ]
     },
     "execution_count": 66,
     "metadata": {},
     "output_type": "execute_result"
    }
   ],
   "source": [
    "%%sql\n",
    "DROP TABLE IF EXISTS books;\n",
    "CREATE TABLE books (\n",
    "    bookID INT NOT NULL UNIQUE,\n",
    "    title VARCHAR(255) NOT NULL DEFAULT '',\n",
    "    publisher VARCHAR(255) NOT NULL DEFAULT '', \n",
    "    releaseDate date NOT NULL DEFAULT '',\n",
    "    isbn INT NOT NULL DEFAULT '',\n",
    "    borrowerID INT, \n",
    "    PRIMARY KEY (bookID)\n",
    "    CONSTRAINT borrowers FOREIGN KEY (borrowerID)\n",
    "    REFERENCES borrowers(borrowerID)\n",
    ");\n",
    "\n",
    "SELECT *\n",
    "FROM books"
   ]
  },
  {
   "cell_type": "code",
   "execution_count": 67,
   "id": "30a07ae1",
   "metadata": {},
   "outputs": [
    {
     "name": "stdout",
     "output_type": "stream",
     "text": [
      " * sqlite:///empty_db.db\n",
      "Done.\n",
      "Done.\n",
      "Done.\n"
     ]
    },
    {
     "data": {
      "text/html": [
       "<table>\n",
       "    <thead>\n",
       "        <tr>\n",
       "            <th>branchID</th>\n",
       "            <th>name</th>\n",
       "            <th>address</th>\n",
       "            <th>zipCode</th>\n",
       "            <th>city</th>\n",
       "        </tr>\n",
       "    </thead>\n",
       "    <tbody>\n",
       "    </tbody>\n",
       "</table>"
      ],
      "text/plain": [
       "[]"
      ]
     },
     "execution_count": 67,
     "metadata": {},
     "output_type": "execute_result"
    }
   ],
   "source": [
    "%%sql\n",
    "DROP TABLE IF EXISTS branches;\n",
    "CREATE TABLE branches (\n",
    "    branchID INT NOT NULL UNIQUE,\n",
    "    name VARCHAR(255) NOT NULL DEFAULT '',\n",
    "    address VARCHAR(255) NOT NULL DEFAULT '', \n",
    "    zipCode INT NOT NULL DEFAULT '',\n",
    "    city VARCHAR(255) NOT NULL DEFAULT '',\n",
    "    PRIMARY KEY (branchID)\n",
    ");\n",
    "\n",
    "SELECT * \n",
    "FROM branches"
   ]
  },
  {
   "cell_type": "code",
   "execution_count": 72,
   "id": "46ab19d5",
   "metadata": {},
   "outputs": [
    {
     "name": "stdout",
     "output_type": "stream",
     "text": [
      " * sqlite:///empty_db.db\n",
      "Done.\n",
      "Done.\n",
      "Done.\n"
     ]
    },
    {
     "data": {
      "text/html": [
       "<table>\n",
       "    <thead>\n",
       "        <tr>\n",
       "            <th>borrowerID</th>\n",
       "            <th>firstName</th>\n",
       "            <th>lastName</th>\n",
       "            <th>address</th>\n",
       "            <th>zipCode</th>\n",
       "            <th>city</th>\n",
       "            <th>email</th>\n",
       "            <th>phoneNumber</th>\n",
       "        </tr>\n",
       "    </thead>\n",
       "    <tbody>\n",
       "    </tbody>\n",
       "</table>"
      ],
      "text/plain": [
       "[]"
      ]
     },
     "execution_count": 72,
     "metadata": {},
     "output_type": "execute_result"
    }
   ],
   "source": [
    "%%sql\n",
    "DROP TABLE IF EXISTS borrowers;\n",
    "CREATE TABLE borrowers (\n",
    "    borrowerID INT NOT NULL UNIQUE,\n",
    "    firstName VARCHAR(255) NOT NULL DEFAULT '',\n",
    "    lastName VARCHAR(255) NOT NULL DEFAULT '', \n",
    "    address VARCHAR(255) NOT NULL DEFAULT '',\n",
    "    zipCode INT NOT NULL DEFAULT '',\n",
    "    city VARCHAR(255) NOT NULL DEFAULT '', \n",
    "    email VARCHAR(255) NOT NULL DEFAULT '',\n",
    "    phoneNumber INT NOT NULL DEFAULT '',\n",
    "    PRIMARY KEY (borrowerID)\n",
    ");\n",
    "\n",
    "SELECT *\n",
    "FROM borrowers"
   ]
  },
  {
   "cell_type": "code",
   "execution_count": null,
   "id": "140af75a",
   "metadata": {},
   "outputs": [],
   "source": []
  }
 ],
 "metadata": {
  "kernelspec": {
   "display_name": "Python 3",
   "language": "python",
   "name": "python3"
  },
  "language_info": {
   "codemirror_mode": {
    "name": "ipython",
    "version": 3
   },
   "file_extension": ".py",
   "mimetype": "text/x-python",
   "name": "python",
   "nbconvert_exporter": "python",
   "pygments_lexer": "ipython3",
   "version": "3.8.8"
  }
 },
 "nbformat": 4,
 "nbformat_minor": 5
}
